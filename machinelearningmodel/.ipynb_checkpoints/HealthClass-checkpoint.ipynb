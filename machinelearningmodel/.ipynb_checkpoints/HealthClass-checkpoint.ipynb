{
 "cells": [
  {
   "cell_type": "markdown",
   "id": "2132ff69",
   "metadata": {},
   "source": [
    "This class contains the inputs of the model. The class has been generated for the function of the model to be used to create endpoints."
   ]
  },
  {
   "cell_type": "code",
   "execution_count": 2,
   "id": "4a8e82f3",
   "metadata": {},
   "outputs": [],
   "source": [
    "from pydantic import BaseModel\n",
    "\n",
    "class Health_class(BaseModel):\n",
    "    stepCount: float\n",
    "    bloodOxygenAvg: float \n",
    "    stress: float\n",
    "    sleepHours: float\n",
    "    REMsleepHours: float\n",
    "    caloriesBurnt: float\n",
    "    heartRate: float\n",
    "    systolicBloodPressure: float\n",
    "    diastolicBloodPressure: float\n",
    "    bodyTemperature: float\n",
    "    breathingFrequency: float\n",
    "\n",
    "        \n",
    "        "
   ]
  },
  {
   "cell_type": "code",
   "execution_count": null,
   "id": "124cf18c",
   "metadata": {},
   "outputs": [],
   "source": []
  }
 ],
 "metadata": {
  "kernelspec": {
   "display_name": "Python 3 (ipykernel)",
   "language": "python",
   "name": "python3"
  },
  "language_info": {
   "codemirror_mode": {
    "name": "ipython",
    "version": 3
   },
   "file_extension": ".py",
   "mimetype": "text/x-python",
   "name": "python",
   "nbconvert_exporter": "python",
   "pygments_lexer": "ipython3",
   "version": "3.9.13"
  }
 },
 "nbformat": 4,
 "nbformat_minor": 5
}
