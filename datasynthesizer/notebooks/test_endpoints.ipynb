{
 "cells": [
  {
   "cell_type": "code",
   "execution_count": 1,
   "id": "4b7f23c3-723f-4760-89f0-b27e9c5c4b54",
   "metadata": {},
   "outputs": [],
   "source": [
    "MIN_TEMPERATURE = 97\n",
    "BASE_TEMPERATURE = 98\n",
    "MAX_TEMPERATURE = 103\n",
    "\n",
    "MIN_AGE = 1\n",
    "NEW_BORN_AGE = 5\n",
    "ADOLESCENT_AGE = 15\n",
    "\n",
    "MIN_WEIGHT = 4\n",
    "MAX_WEIGHT = 120\n",
    "\n",
    "MIN_HEIGHT = 50\n",
    "MAX_HEIGHT = 200\n",
    "\n",
    "MORNING_HOUR = 6\n",
    "NOON_HOUR = 12\n",
    "EVENING_HOUR = 18\n",
    "\n",
    "MAX_STEP_COUNT = 30_000\n",
    "\n",
    "MAX_CALORIES_BURNT = 3_000\n",
    "\n",
    "MIN_REM_SLEEP_HOURS = 0\n",
    "\n",
    "MIN_HEART_RATE = 50\n",
    "MAX_HEART_RATE = 150\n",
    "\n",
    "MIN_SYS_BP = 50\n",
    "MAX_SYS_BP = 90\n",
    "\n",
    "MIN_DIA_BP = 100\n",
    "MAX_DIA_BP = 140\n",
    "\n",
    "MIN_BREATH_FREQUENCY = 10\n",
    "\n",
    "MIN_O2_AVG = 90\n",
    "\n",
    "HEART_RATE_LB = 55.0\n",
    "HEART_RATE_UB = 144.0\n",
    "\n",
    "SYS_BP_LB = 51.0\n",
    "SYS_BP_UB = 87.0\n",
    "\n",
    "DIA_BP_LB = 101.0\n",
    "DIA_BP_UB = 138.0\n",
    "\n",
    "BODY_TEMP_LB = 97.0\n",
    "BODY_TEMP_UB = 102.6\n",
    "\n",
    "BF_LB = 10.0\n",
    "BF_UB = 21.0\n",
    "\n",
    "DATE_FORMAT = \"%d/%m/%Y\"\n",
    "DATE_AND_TIME_FORMAT = \"%d/%m/%Y %H:%M:%S\"\n"
   ]
  },
  {
   "cell_type": "code",
   "execution_count": 2,
   "id": "ca1db0d9-e790-4abd-9394-a292cf7d2dd7",
   "metadata": {},
   "outputs": [],
   "source": [
    "from datetime import timedelta, datetime\n",
    "from random import randrange\n",
    "\n",
    "\n",
    "def fetch_random_date(start, end):\n",
    "    \"\"\"\n",
    "        This function will return a random datetime between two datetime\n",
    "        objects.\n",
    "    \"\"\"\n",
    "    if end is None:\n",
    "        return start\n",
    "    delta = end - start\n",
    "    int_delta = (delta.days * 24 * 60 * 60) + delta.seconds\n",
    "    random_second = randrange(int_delta)\n",
    "    return start + timedelta(seconds=random_second)\n"
   ]
  },
  {
   "cell_type": "code",
   "execution_count": 18,
   "id": "5830c721-ef58-40ed-829d-0faf63872ae9",
   "metadata": {},
   "outputs": [],
   "source": [
    "import pandas as pd\n",
    "# from app.server.constants import *\n",
    "\n",
    "\n",
    "def generate_labels_for_data(event_data, generate_user):\n",
    "    df_records = pd.DataFrame(event_data).T.reset_index(drop=True)\n",
    "\n",
    "    if generate_user:\n",
    "        df_records = pd.concat([df_records,\n",
    "                                df_records['generalHealthStats'].apply(lambda x: pd.Series(x)),\n",
    "                                df_records['user'].apply(lambda x: pd.Series(x)),\n",
    "                                df_records['vitals'].apply(lambda x: pd.Series(x))\n",
    "                                ], axis=1)\n",
    "        columns_to_retain = ['user', 'vitals', 'generalHealthStats', 'dataSource', 'eventId', 'eventTimestamp', 'healthState']\n",
    "    else:\n",
    "        df_records = pd.concat([df_records,\n",
    "                                df_records['generalHealthStats'].apply(lambda x: pd.Series(x)),\n",
    "                                df_records['vitals'].apply(lambda x: pd.Series(x))\n",
    "                                ], axis=1)\n",
    "        columns_to_retain = ['vitals', 'generalHealthStats', 'dataSource', 'eventId', 'eventTimestamp', 'healthState']\n",
    "\n",
    "    df_records['healthState'] = ''\n",
    "    df_records.loc[(df_records['heartRate'] <= HEART_RATE_LB) |\n",
    "                   (df_records['heartRate'] >= HEART_RATE_UB) |\n",
    "\n",
    "                   (df_records['systolicBloodPressure'] <= SYS_BP_LB) |\n",
    "                   (df_records['systolicBloodPressure'] >= SYS_BP_UB) |\n",
    "\n",
    "                   (df_records['diastolicBloodPressure'] <= DIA_BP_LB) |\n",
    "                   (df_records['diastolicBloodPressure'] >= DIA_BP_UB) |\n",
    "\n",
    "                   (df_records['bodyTemperature'] < BODY_TEMP_LB) |\n",
    "                   (df_records['bodyTemperature'] > BODY_TEMP_UB) |\n",
    "\n",
    "                   (df_records['breathingFrequency'] <= BF_LB) |\n",
    "                   (df_records['breathingFrequency'] >= BF_UB)\n",
    "        , 'healthState'] = 'bad'\n",
    "    df_records.loc[df_records['healthState'] == '', 'healthState'] = 'good'\n",
    "\n",
    "    return df_records[columns_to_retain].to_dict('records')\n",
    "\n"
   ]
  },
  {
   "cell_type": "code",
   "execution_count": 19,
   "id": "32576631-790f-4b57-8c4f-ea5f30d9e876",
   "metadata": {},
   "outputs": [],
   "source": [
    "import random\n",
    "import secrets\n",
    "# from app.server.constants import *\n",
    "\n",
    "\n",
    "def synthesise_vitals():\n",
    "    vitals = {}\n",
    "\n",
    "    heartRate = synthesise_heart_rate()\n",
    "    vitals['heartRate'] = heartRate\n",
    "\n",
    "    systolicBloodPressure = synthesise_systolic_blood_pressure()\n",
    "    vitals['systolicBloodPressure'] = systolicBloodPressure\n",
    "\n",
    "    diastolicBloodPressure = synthesise_diastolic_blood_pressure()\n",
    "    vitals['diastolicBloodPressure'] = diastolicBloodPressure\n",
    "\n",
    "    bodyTemperature = synthesise_body_temperature()\n",
    "    vitals['bodyTemperature'] = bodyTemperature\n",
    "\n",
    "    breathingFrequency = synthesise_breathing_frequency()\n",
    "    vitals['breathingFrequency'] = breathingFrequency\n",
    "\n",
    "    return vitals\n",
    "\n",
    "\n",
    "def synthesise_breathing_frequency():\n",
    "    breathingFrequency = MIN_BREATH_FREQUENCY + secrets.randbelow(12)\n",
    "    return breathingFrequency\n",
    "\n",
    "\n",
    "def synthesise_body_temperature():\n",
    "    bodyTemperature = BASE_TEMPERATURE + secrets.randbelow(3)\n",
    "    random_sign = secrets.randbelow(2)\n",
    "    random_sign = random_sign if random_sign == 1 else -1\n",
    "    bodyTemperature += random_sign * round(random.random(), 2)\n",
    "    bodyTemperature = round(bodyTemperature, 2)\n",
    "    if bodyTemperature <= MIN_TEMPERATURE:\n",
    "        bodyTemperature = MIN_TEMPERATURE\n",
    "    elif bodyTemperature >= MAX_TEMPERATURE:\n",
    "        bodyTemperature = MAX_TEMPERATURE\n",
    "    return bodyTemperature\n",
    "\n",
    "\n",
    "def synthesise_diastolic_blood_pressure():\n",
    "    return MIN_DIA_BP + secrets.randbelow(40)\n",
    "\n",
    "\n",
    "def synthesise_systolic_blood_pressure():\n",
    "    return MIN_SYS_BP + secrets.randbelow(40)\n",
    "\n",
    "\n",
    "def synthesise_heart_rate():\n",
    "    return MIN_HEART_RATE + secrets.randbelow(100)"
   ]
  },
  {
   "cell_type": "code",
   "execution_count": 20,
   "id": "4220604c-05b6-4022-8c7e-32292dd3a638",
   "metadata": {},
   "outputs": [],
   "source": [
    "import random\n",
    "import secrets\n",
    "# from app.server.constants import *\n",
    "\n",
    "\n",
    "def synthesise_health_stats(hour_of_the_day):\n",
    "    generalHealthStats = {}\n",
    "\n",
    "    stepCount = synthesise_step_count(hour_of_the_day)\n",
    "    min_increment = secrets.randbelow(10)\n",
    "    additional_steps = (min_increment + secrets.randbelow(100))\n",
    "    stepCount = stepCount + additional_steps\n",
    "    generalHealthStats['stepCount'] = stepCount\n",
    "\n",
    "    bloodOxygenAvg = synthesise_blood_oxygen_level()\n",
    "    generalHealthStats['bloodOxygenAvg'] = bloodOxygenAvg\n",
    "\n",
    "    stress = synthesise_stress_score()\n",
    "    generalHealthStats['stress'] = stress\n",
    "\n",
    "    sleepHours = synthesise_sleep_hours()\n",
    "    generalHealthStats['sleepHours'] = sleepHours\n",
    "\n",
    "    REMsleepHours = synthesise_rem_sleep_hours()\n",
    "    generalHealthStats['REMsleepHours'] = REMsleepHours\n",
    "\n",
    "    caloriesBurnt = synthesise_calories_count(hour_of_the_day)\n",
    "    min_increment = secrets.randbelow(20)\n",
    "    decimal_increment = 0\n",
    "    random_sign = secrets.randbelow(2)\n",
    "    random_sign = random_sign if random_sign == 1 else -1\n",
    "    decimal_increment += random_sign * random.random()\n",
    "    additional_calories = (round(decimal_increment, 2) + min_increment + secrets.randbelow(200))\n",
    "    caloriesBurnt = caloriesBurnt + additional_calories\n",
    "\n",
    "    generalHealthStats['caloriesBurnt'] = caloriesBurnt\n",
    "\n",
    "    return generalHealthStats\n",
    "\n",
    "\n",
    "def synthesise_step_count(hour_of_the_day):\n",
    "    if hour_of_the_day <= MORNING_HOUR:\n",
    "        return secrets.randbelow(500)\n",
    "\n",
    "    elif (hour_of_the_day > MORNING_HOUR) and (hour_of_the_day <= NOON_HOUR):\n",
    "        return secrets.randbelow(8000)\n",
    "\n",
    "    elif (hour_of_the_day > NOON_HOUR) and (hour_of_the_day <= EVENING_HOUR):\n",
    "        return secrets.randbelow(15_000)\n",
    "\n",
    "    elif hour_of_the_day > EVENING_HOUR:\n",
    "        return secrets.randbelow(MAX_STEP_COUNT)\n",
    "\n",
    "\n",
    "def synthesise_calories_count(hour_of_the_day):\n",
    "    if hour_of_the_day <= MORNING_HOUR:\n",
    "        return secrets.randbelow(200)\n",
    "\n",
    "    elif (hour_of_the_day > MORNING_HOUR) and (hour_of_the_day <= NOON_HOUR):\n",
    "        return secrets.randbelow(800)\n",
    "\n",
    "    elif (hour_of_the_day > NOON_HOUR) and (hour_of_the_day <= EVENING_HOUR):\n",
    "        return secrets.randbelow(1500)\n",
    "\n",
    "    elif hour_of_the_day > EVENING_HOUR:\n",
    "        return secrets.randbelow(MAX_CALORIES_BURNT)\n",
    "\n",
    "\n",
    "def synthesise_blood_oxygen_level():\n",
    "    bloodOxygenAvg = MIN_O2_AVG + secrets.randbelow(10)\n",
    "    return bloodOxygenAvg\n",
    "\n",
    "\n",
    "def synthesise_stress_score():\n",
    "    stress = secrets.randbelow(5)\n",
    "    return stress\n",
    "\n",
    "\n",
    "def synthesise_sleep_hours():\n",
    "    sleepHours = 4 + secrets.randbelow(6)\n",
    "    minutes = 0\n",
    "    random_sign = secrets.randbelow(2)\n",
    "    random_sign = random_sign if random_sign == 1 else -1\n",
    "    minutes += random_sign * round(random.random(), 2)\n",
    "    sleepHours = sleepHours + minutes\n",
    "    return sleepHours\n",
    "\n",
    "\n",
    "def synthesise_rem_sleep_hours():\n",
    "    REMsleepHours = secrets.randbelow(4)\n",
    "    minutes = 0\n",
    "    random_sign = secrets.randbelow(2)\n",
    "    random_sign = random_sign if random_sign == 1 else -1\n",
    "    minutes += random_sign * round(random.random(), 2)\n",
    "    REMsleepHours += minutes\n",
    "    if REMsleepHours <= MIN_REM_SLEEP_HOURS:\n",
    "        REMsleepHours = MIN_REM_SLEEP_HOURS\n",
    "    return REMsleepHours\n"
   ]
  },
  {
   "cell_type": "code",
   "execution_count": 21,
   "id": "7674f0fe-de00-43bb-b747-e79256c41a55",
   "metadata": {},
   "outputs": [],
   "source": [
    "import uuid\n",
    "import secrets\n",
    "from faker import Faker\n",
    "# from app.server.constants import *\n",
    "\n",
    "fake = Faker()\n",
    "fake.seed_instance(8)\n",
    "\n",
    "\n",
    "def synthesise_user_data(user):\n",
    "    user['user_id'] = str(uuid.uuid4())\n",
    "\n",
    "    name = fake.name()\n",
    "    user['firstname'] = name.split(' ')[0]\n",
    "    user['lastname'] = name.split(' ')[1]\n",
    "\n",
    "    random_no = secrets.randbelow(2)\n",
    "    gender = 'male' if random_no == 1 else 'female'\n",
    "    user['gender'] = gender\n",
    "\n",
    "    age = MIN_AGE + secrets.randbelow(65)\n",
    "    user['age'] = age\n",
    "\n",
    "    height = 0\n",
    "    weight = 0\n",
    "\n",
    "    if age < NEW_BORN_AGE:\n",
    "        weight = MIN_WEIGHT + secrets.randbelow(10)\n",
    "        height = MIN_HEIGHT + secrets.randbelow(40)\n",
    "\n",
    "    elif NEW_BORN_AGE <= age <= ADOLESCENT_AGE:\n",
    "        weight = 20 + secrets.randbelow(20)\n",
    "        height = 70 + secrets.randbelow(60)\n",
    "\n",
    "    elif age > ADOLESCENT_AGE:\n",
    "        weight = 40 + secrets.randbelow(80)\n",
    "        height = 140 + secrets.randbelow(60)\n",
    "\n",
    "    user['weight'] = weight\n",
    "    user['height'] = height\n",
    "    return user\n"
   ]
  },
  {
   "cell_type": "code",
   "execution_count": 22,
   "id": "2e2ae961-9949-4903-b7f9-3b4e3a3fdef9",
   "metadata": {},
   "outputs": [],
   "source": [
    "import uuid\n",
    "import secrets\n",
    "from datetime import timedelta\n",
    "\n",
    "\n",
    "def synthesise_event_details(event, start_time, end_time, event_ts):\n",
    "    min_increment = 1\n",
    "    additional_mins = (min_increment + secrets.randbelow(5))\n",
    "    additional_sec = secrets.randbelow(30)\n",
    "    event_ts = event_ts + timedelta(minutes=additional_mins, seconds=additional_sec)\n",
    "\n",
    "    if event_ts > end_time:\n",
    "        event_ts = end_time\n",
    "    elif event_ts < start_time:\n",
    "        event_ts = start_time\n",
    "\n",
    "    event['eventTimestamp'] = event_ts\n",
    "\n",
    "    random_no = secrets.randbelow(2)\n",
    "    source = 'app' if random_no == 1 else 'manual'\n",
    "    event['dataSource'] = source\n",
    "\n",
    "    event_id = str(uuid.uuid4())\n",
    "    event['eventId'] = event_id\n",
    "\n",
    "    return event\n"
   ]
  },
  {
   "cell_type": "code",
   "execution_count": 31,
   "id": "d61e03e9-2b4b-4267-b81d-5a8331c5ea68",
   "metadata": {},
   "outputs": [],
   "source": [
    "\n",
    "def synthesise_data_for_ui(start_time, end_time):\n",
    "    return synthesise_core(start_time=start_time, end_time=end_time, generate_multiple_records=False,\n",
    "                          generate_labels=True)\n",
    "\n",
    "\n",
    "def synthesise_data_for_training(start_time, end_time):\n",
    "    return synthesise_core(start_time=start_time, end_time=end_time, generate_multiple_records=True,\n",
    "                          generate_labels=True, generate_user=True)\n",
    "\n",
    "\n",
    "def synthesise_data_auto_call(start_time):\n",
    "    return synthesise_core(start_time=start_time, generate_multiple_records=False, generate_labels=False)\n",
    "\n",
    "\n",
    "def synthesise_bulk(event_data, start_time, end_time, generate_labels, generate_user, n_users=100):\n",
    "\n",
    "    for _ in range(n_users):\n",
    "        user = {}\n",
    "        # generate user\n",
    "        if generate_user:\n",
    "            user = synthesise_user_data(user=user)\n",
    "\n",
    "        # intervals: number of periods where data is captured\n",
    "        # pick random number of time intervals (1,10)\n",
    "        intervals = 1 + secrets.randbelow(10)\n",
    "        for _ in range(intervals):\n",
    "\n",
    "            interval_records = secrets.randbelow(30)\n",
    "\n",
    "            start_date = start_time\n",
    "            end_date = end_time\n",
    "\n",
    "            first_ts = fetch_random_date(start_date, end_date)\n",
    "            event_ts = first_ts\n",
    "            hour_of_the_day = event_ts.hour\n",
    "\n",
    "            # These health stats are monotonically increasing for the day, so they are generated outside the loop\n",
    "            stepCount = synthesise_step_count(hour_of_the_day)\n",
    "            caloriesBurnt = synthesise_calories_count(hour_of_the_day)\n",
    "\n",
    "            # These health stats remain the same for the same day, so they are generated outside the loop\n",
    "            sleepHours = synthesise_sleep_hours()\n",
    "            REMsleepHours = synthesise_rem_sleep_hours()\n",
    "            bodyTemperature = synthesise_body_temperature()\n",
    "\n",
    "            # interval_records: number of records present in each period\n",
    "            # pick random number of timestamps between start and end date for all intervals\n",
    "            for _ in range(interval_records):\n",
    "                event = {}\n",
    "                vitals = {}\n",
    "                generalHealthStats = {}\n",
    "\n",
    "                if generate_user:\n",
    "                    event['user'] = user\n",
    "\n",
    "                # generate event details\n",
    "                event = synthesise_event_details(event, start_time, end_time, event_ts)\n",
    "\n",
    "                # generate vitals\n",
    "                heartRate = synthesise_heart_rate()\n",
    "                vitals['heartRate'] = heartRate\n",
    "\n",
    "                systolicBloodPressure = synthesise_systolic_blood_pressure()\n",
    "                vitals['systolicBloodPressure'] = systolicBloodPressure\n",
    "\n",
    "                diastolicBloodPressure = synthesise_diastolic_blood_pressure()\n",
    "                vitals['diastolicBloodPressure'] = diastolicBloodPressure\n",
    "\n",
    "                random_sign = secrets.randbelow(2)\n",
    "                random_sign = random_sign if random_sign == 1 else -1\n",
    "                bodyTemperature += random_sign * round(random.random(), 2)\n",
    "                bodyTemperature = round(bodyTemperature, 2)\n",
    "                if bodyTemperature <= MIN_TEMPERATURE:\n",
    "                    bodyTemperature = MIN_TEMPERATURE\n",
    "                elif bodyTemperature >= MAX_TEMPERATURE:\n",
    "                    bodyTemperature = MAX_TEMPERATURE\n",
    "                vitals['bodyTemperature'] = bodyTemperature\n",
    "\n",
    "                breathingFrequency = synthesise_breathing_frequency()\n",
    "                vitals['breathingFrequency'] = breathingFrequency\n",
    "\n",
    "                event['vitals'] = vitals\n",
    "\n",
    "                # generate generalHealthStats\n",
    "                min_increment = secrets.randbelow(10)\n",
    "                additional_steps = (min_increment + secrets.randbelow(100))\n",
    "                stepCount = stepCount + additional_steps\n",
    "                generalHealthStats['stepCount'] = stepCount\n",
    "\n",
    "                bloodOxygenAvg = synthesise_blood_oxygen_level()\n",
    "                generalHealthStats['bloodOxygenAvg'] = bloodOxygenAvg\n",
    "\n",
    "                stress = synthesise_stress_score()\n",
    "                generalHealthStats['stress'] = stress\n",
    "\n",
    "                generalHealthStats['sleepHours'] = sleepHours\n",
    "\n",
    "                generalHealthStats['REMsleepHours'] = REMsleepHours\n",
    "\n",
    "                min_increment = secrets.randbelow(20)\n",
    "                additional_calories = (min_increment + secrets.randbelow(200))\n",
    "                caloriesBurnt = caloriesBurnt + additional_calories\n",
    "                generalHealthStats['caloriesBurnt'] = caloriesBurnt\n",
    "\n",
    "                event['generalHealthStats'] = generalHealthStats\n",
    "                eventId = event.get('eventId')\n",
    "                event_data[f'{eventId}'] = event\n",
    "\n",
    "    if generate_labels:\n",
    "        event_data = generate_labels_for_data(event_data, generate_user=generate_user)\n",
    "    return event_data\n",
    "\n",
    "\n",
    "def synthesise_core(start_time, end_time=None, generate_multiple_records=False, generate_labels=False, generate_user=False, n_users=100):\n",
    "    event_data = {}\n",
    "    user = {}\n",
    "\n",
    "    if generate_multiple_records:\n",
    "        return synthesise_bulk(event_data=event_data, start_time=start_time, end_time=end_time,\n",
    "                                       generate_labels=generate_labels, generate_user=generate_user, n_users=n_users)\n",
    "\n",
    "    else:\n",
    "        # generate random timestamp between (start, end)\n",
    "        first_ts = fetch_random_date(start=start_time, end=end_time)\n",
    "        event_ts = first_ts\n",
    "        hour_of_the_day = event_ts.hour\n",
    "\n",
    "        event = {}\n",
    "        # generate event related details\n",
    "        if end_time is None:\n",
    "            end_time = start_time\n",
    "        event = synthesise_event_details(event, start_time, end_time, event_ts)\n",
    "\n",
    "        # generate user information\n",
    "        if generate_user:\n",
    "            user = synthesise_user_data(user)\n",
    "\n",
    "        event['user'] = user\n",
    "        # generate vitals\n",
    "        event['vitals'] = synthesise_vitals()\n",
    "\n",
    "        # generate health stats\n",
    "        event['generalHealthStats'] = synthesise_health_stats(hour_of_the_day)\n",
    "\n",
    "        eventId = event.get('eventId')\n",
    "        event_data[f'{eventId}'] = event\n",
    "\n",
    "        if generate_labels:\n",
    "            return generate_labels_for_data(event_data, generate_user=generate_user)[0]\n",
    "\n",
    "        return event_data[eventId]"
   ]
  },
  {
   "cell_type": "code",
   "execution_count": 32,
   "id": "2fc46b6d-e809-449f-924f-a9712dccc019",
   "metadata": {},
   "outputs": [
    {
     "name": "stdout",
     "output_type": "stream",
     "text": [
      "2022-01-31 12:23:31\n"
     ]
    }
   ],
   "source": [
    "data = {\"start_time\": \"31/01/2022 12:23:31\"}\n",
    "dd = datetime.strptime(data.get(\"start_time\"), \"%d/%m/%Y %H:%M:%S\") or datetime.now() - timedelta(minutes=10)\n",
    "print(dd)"
   ]
  },
  {
   "cell_type": "code",
   "execution_count": 33,
   "id": "951c709d-802c-4553-9593-33ee3906c0d8",
   "metadata": {},
   "outputs": [
    {
     "data": {
      "text/plain": [
       "{'eventTimestamp': datetime.datetime(2022, 1, 31, 12, 23, 31),\n",
       " 'dataSource': 'manual',\n",
       " 'eventId': '9b1c4228-e51b-4cf8-b57b-041bda135bb2',\n",
       " 'user': {},\n",
       " 'vitals': {'heartRate': 78,\n",
       "  'systolicBloodPressure': 54,\n",
       "  'diastolicBloodPressure': 128,\n",
       "  'bodyTemperature': 100.41,\n",
       "  'breathingFrequency': 21},\n",
       " 'generalHealthStats': {'stepCount': 3767,\n",
       "  'bloodOxygenAvg': 93,\n",
       "  'stress': 4,\n",
       "  'sleepHours': 8.03,\n",
       "  'REMsleepHours': 2.65,\n",
       "  'caloriesBurnt': 743.55}}"
      ]
     },
     "execution_count": 33,
     "metadata": {},
     "output_type": "execute_result"
    }
   ],
   "source": [
    "synthesise_data_auto_call(dd)"
   ]
  },
  {
   "cell_type": "code",
   "execution_count": null,
   "id": "3de21dfb-1abb-4333-b3ac-8dfbaefe527e",
   "metadata": {},
   "outputs": [],
   "source": []
  },
  {
   "cell_type": "code",
   "execution_count": 34,
   "id": "242a1229-f426-41c7-bd20-e480f5a54866",
   "metadata": {},
   "outputs": [],
   "source": [
    "data = {\"start_time\": \"31/01/2022\", \"end_time\": \"01/02/2022\"}"
   ]
  },
  {
   "cell_type": "code",
   "execution_count": 35,
   "id": "59624574-70c2-4b41-a59a-35fab5c17160",
   "metadata": {},
   "outputs": [
    {
     "name": "stdout",
     "output_type": "stream",
     "text": [
      "2022-01-31 00:00:00 2022-02-01 00:00:00\n"
     ]
    }
   ],
   "source": [
    "start_time = datetime.strptime(data.get(\"start_time\"), \"%d/%m/%Y\") or datetime.now() - timedelta(minutes=10)\n",
    "end_time = datetime.strptime(data.get(\"end_time\"), \"%d/%m/%Y\") or datetime.now()\n",
    "print(start_time, end_time)"
   ]
  },
  {
   "cell_type": "code",
   "execution_count": 36,
   "id": "6e2386ec-53fe-4466-b28a-4ebd0e550610",
   "metadata": {},
   "outputs": [
    {
     "name": "stdout",
     "output_type": "stream",
     "text": [
      "Index(['dataSource', 'eventId', 'eventTimestamp', 'generalHealthStats', 'user',\n",
      "       'vitals', 'stepCount', 'bloodOxygenAvg', 'stress', 'sleepHours',\n",
      "       'REMsleepHours', 'caloriesBurnt', 'heartRate', 'systolicBloodPressure',\n",
      "       'diastolicBloodPressure', 'bodyTemperature', 'breathingFrequency'],\n",
      "      dtype='object')\n"
     ]
    },
    {
     "data": {
      "text/plain": [
       "{'vitals': {'heartRate': 109,\n",
       "  'systolicBloodPressure': 59,\n",
       "  'diastolicBloodPressure': 112,\n",
       "  'bodyTemperature': 100.99,\n",
       "  'breathingFrequency': 12},\n",
       " 'generalHealthStats': {'stepCount': 516,\n",
       "  'bloodOxygenAvg': 90,\n",
       "  'stress': 4,\n",
       "  'sleepHours': 6.89,\n",
       "  'REMsleepHours': 0.92,\n",
       "  'caloriesBurnt': 750.1800000000001},\n",
       " 'dataSource': 'app',\n",
       " 'eventId': 'd45bca0b-0f26-4463-99a2-00370a592b73',\n",
       " 'eventTimestamp': Timestamp('2022-01-31 12:15:45'),\n",
       " 'healthState': 'good'}"
      ]
     },
     "execution_count": 36,
     "metadata": {},
     "output_type": "execute_result"
    }
   ],
   "source": [
    "synthesise_data_for_ui(start_time=start_time, end_time=end_time)"
   ]
  },
  {
   "cell_type": "code",
   "execution_count": 37,
   "id": "ededb81d-872e-4efe-bd89-8f2510dbd8d9",
   "metadata": {},
   "outputs": [
    {
     "name": "stdout",
     "output_type": "stream",
     "text": [
      "Index(['dataSource', 'eventId', 'eventTimestamp', 'generalHealthStats', 'user',\n",
      "       'vitals', 'stepCount', 'bloodOxygenAvg', 'stress', 'sleepHours',\n",
      "       'REMsleepHours', 'caloriesBurnt', 'heartRate', 'systolicBloodPressure',\n",
      "       'diastolicBloodPressure', 'bodyTemperature', 'breathingFrequency'],\n",
      "      dtype='object')\n"
     ]
    },
    {
     "data": {
      "text/plain": [
       "{'vitals': {'heartRate': 82,\n",
       "  'systolicBloodPressure': 79,\n",
       "  'diastolicBloodPressure': 114,\n",
       "  'bodyTemperature': 98.07,\n",
       "  'breathingFrequency': 10},\n",
       " 'generalHealthStats': {'stepCount': 428,\n",
       "  'bloodOxygenAvg': 95,\n",
       "  'stress': 0,\n",
       "  'sleepHours': 5.75,\n",
       "  'REMsleepHours': 0.6599999999999999,\n",
       "  'caloriesBurnt': 203.13},\n",
       " 'dataSource': 'app',\n",
       " 'eventId': '8e58ef36-5cf7-44cf-93d5-4d8c80561c9b',\n",
       " 'eventTimestamp': Timestamp('2023-02-19 02:02:23.118266'),\n",
       " 'healthState': 'bad'}"
      ]
     },
     "execution_count": 37,
     "metadata": {},
     "output_type": "execute_result"
    }
   ],
   "source": [
    "synthesise_data_for_ui(datetime.now() - timedelta(minutes=10), datetime.now())"
   ]
  },
  {
   "cell_type": "code",
   "execution_count": null,
   "id": "050069dd-2e0e-42de-8fad-865896e2c41f",
   "metadata": {},
   "outputs": [],
   "source": []
  },
  {
   "cell_type": "code",
   "execution_count": 38,
   "id": "2e417184-d952-4701-ba9a-4e0fd721ed27",
   "metadata": {},
   "outputs": [
    {
     "name": "stdout",
     "output_type": "stream",
     "text": [
      "Index(['user', 'eventTimestamp', 'dataSource', 'eventId', 'vitals',\n",
      "       'generalHealthStats', 'stepCount', 'bloodOxygenAvg', 'stress',\n",
      "       'sleepHours', 'REMsleepHours', 'caloriesBurnt', 'user_id', 'firstname',\n",
      "       'lastname', 'gender', 'age', 'weight', 'height', 'heartRate',\n",
      "       'systolicBloodPressure', 'diastolicBloodPressure', 'bodyTemperature',\n",
      "       'breathingFrequency'],\n",
      "      dtype='object')\n"
     ]
    }
   ],
   "source": [
    "data = synthesise_core(start_time=start_time, end_time=end_time, generate_multiple_records=True,\n",
    "                      generate_labels=True, generate_user=True, n_users=1000)"
   ]
  },
  {
   "cell_type": "code",
   "execution_count": 39,
   "id": "170b1e05-268b-44b3-aa43-a7c53ce229f9",
   "metadata": {},
   "outputs": [],
   "source": [
    "df_records = pd.DataFrame.from_records(data).reset_index(drop=True)"
   ]
  },
  {
   "cell_type": "code",
   "execution_count": 40,
   "id": "defcd378-3deb-4f4a-98ec-39dba4bdf751",
   "metadata": {},
   "outputs": [],
   "source": [
    "df_records = pd.concat([df_records,\n",
    "                        df_records['generalHealthStats'].apply(lambda x: pd.Series(x)),\n",
    "                        df_records['user'].apply(lambda x: pd.Series(x)),\n",
    "                        df_records['vitals'].apply(lambda x: pd.Series(x))\n",
    "                        ], axis=1)\n",
    "columns_to_retain = ['user', 'vitals', 'generalHealthStats', 'dataSource', 'eventId', 'eventTimestamp', 'healthState']\n"
   ]
  },
  {
   "cell_type": "code",
   "execution_count": 41,
   "id": "bb4fe7e5-0c5b-4a71-b86b-2a3b7310c5c0",
   "metadata": {},
   "outputs": [
    {
     "data": {
      "text/plain": [
       "Index(['user', 'vitals', 'generalHealthStats', 'dataSource', 'eventId',\n",
       "       'eventTimestamp', 'healthState', 'stepCount', 'bloodOxygenAvg',\n",
       "       'stress', 'sleepHours', 'REMsleepHours', 'caloriesBurnt', 'user_id',\n",
       "       'firstname', 'lastname', 'gender', 'age', 'weight', 'height',\n",
       "       'heartRate', 'systolicBloodPressure', 'diastolicBloodPressure',\n",
       "       'bodyTemperature', 'breathingFrequency'],\n",
       "      dtype='object')"
      ]
     },
     "execution_count": 41,
     "metadata": {},
     "output_type": "execute_result"
    }
   ],
   "source": [
    "df_records.columns"
   ]
  },
  {
   "cell_type": "code",
   "execution_count": 42,
   "id": "e6031e4c-862b-45d5-8a9b-e4a1ee8eec38",
   "metadata": {},
   "outputs": [
    {
     "data": {
      "text/plain": [
       "(78120, 25)"
      ]
     },
     "execution_count": 42,
     "metadata": {},
     "output_type": "execute_result"
    }
   ],
   "source": [
    "df_records.shape"
   ]
  },
  {
   "cell_type": "code",
   "execution_count": 43,
   "id": "df5941d9-ce14-434b-bef2-297844b11e93",
   "metadata": {},
   "outputs": [],
   "source": [
    "df_records.to_csv('data/time_series_dump_v3.csv')"
   ]
  },
  {
   "cell_type": "code",
   "execution_count": null,
   "id": "e3d46ab3-b6b5-4cd0-ad94-56f971d7b67e",
   "metadata": {},
   "outputs": [],
   "source": []
  },
  {
   "cell_type": "code",
   "execution_count": null,
   "id": "1ea28777-d6f6-48cd-9495-a5b45490f808",
   "metadata": {},
   "outputs": [],
   "source": [
    "### rough ###"
   ]
  },
  {
   "cell_type": "code",
   "execution_count": null,
   "id": "b5a48ae6-a5be-479d-8c2d-7fcbe58109bd",
   "metadata": {},
   "outputs": [
    {
     "name": "stdout",
     "output_type": "stream",
     "text": [
      "{'VANILLA': 'vanilla', 'CHOCOLATE': 'choc', 'COOKIES': 'cookie', 'MINT': 'mint'}\n"
     ]
    }
   ],
   "source": [
    "from enum import Enum\n",
    "class Shake(Enum):\n",
    "    VANILLA = \"vanilla\"\n",
    "    CHOCOLATE = \"choc\"\n",
    "    COOKIES = \"cookie\"\n",
    "    MINT = \"mint\"\n",
    "\n",
    "dct = {i.name: i.value for i in Shake}\n",
    "print(dct)"
   ]
  },
  {
   "cell_type": "code",
   "execution_count": null,
   "id": "7d69427f-4a24-4a74-87b0-5ea54a2f87ad",
   "metadata": {},
   "outputs": [
    {
     "data": {
      "text/plain": [
       "('VANILLA', 'vanilla')"
      ]
     },
     "execution_count": 169,
     "metadata": {},
     "output_type": "execute_result"
    }
   ],
   "source": [
    "Shake['VANILLA'].name, Shake['VANILLA'].value"
   ]
  },
  {
   "cell_type": "code",
   "execution_count": null,
   "id": "6a61385a-12b3-4237-8836-19286acc8d8e",
   "metadata": {},
   "outputs": [],
   "source": []
  }
 ],
 "metadata": {
  "kernelspec": {
   "display_name": "Python 3 (ipykernel)",
   "language": "python",
   "name": "python3"
  },
  "language_info": {
   "codemirror_mode": {
    "name": "ipython",
    "version": 3
   },
   "file_extension": ".py",
   "mimetype": "text/x-python",
   "name": "python",
   "nbconvert_exporter": "python",
   "pygments_lexer": "ipython3",
   "version": "3.9.16"
  }
 },
 "nbformat": 4,
 "nbformat_minor": 5
}
