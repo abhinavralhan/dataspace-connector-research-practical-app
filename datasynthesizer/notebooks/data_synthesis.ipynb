{
 "cells": [
  {
   "cell_type": "code",
   "execution_count": 1,
   "id": "899de120-0276-4698-b367-514a4b8028db",
   "metadata": {},
   "outputs": [],
   "source": [
    "import sdv\n",
    "from faker import Faker\n",
    "import pandas as pd\n",
    "import numpy as np\n",
    "import seaborn as sns\n",
    "import random\n",
    "import secrets\n",
    "import uuid\n",
    "from random import randrange\n",
    "from datetime import timedelta, datetime\n",
    "\n",
    "\n",
    "fake = Faker()\n",
    "fake.seed_instance(8)\n",
    "random.seed(8)"
   ]
  },
  {
   "cell_type": "code",
   "execution_count": 2,
   "id": "a2081e4b-995c-4607-b477-ab4e923d16bd",
   "metadata": {},
   "outputs": [
    {
     "data": {
      "text/plain": [
       "{'eventId': '244ca386-89a5-4b7e-8ac4-4b7dd4fee74e',\n",
       " 'eventTimestamp': '11/12/2022 08:20:43',\n",
       " 'dataSource': 'app',\n",
       " 'healthState': 'good',\n",
       " 'generalHealthStats': {'stepCount(cumulativeforday)': 4000,\n",
       "  'stress(0to5)': 3,\n",
       "  'bloodOxygen(mmHg)': 95,\n",
       "  'sleepHours': 8,\n",
       "  'REMsleepHours': 4,\n",
       "  'caloriesBurnt(cumulativeforday)': 2000},\n",
       " 'user': {'user_id': 'fdde5bd5-1146-48df-94ef-d56532290901',\n",
       "  'firstname': 'john',\n",
       "  'lastname': 'doe',\n",
       "  'gender': 'male',\n",
       "  'age': 23,\n",
       "  'weight(kg)': 88,\n",
       "  'height(cm)': 176},\n",
       " 'vitals': {'heartRate(bpm)': 72,\n",
       "  'systolicBloodPressure(mmHg)': 130,\n",
       "  'diastolicBloodPressure(mmHg)': 70,\n",
       "  'bodyTemperature(F)': 98.6,\n",
       "  'breathingFrequency(perminute)': 15}}"
      ]
     },
     "execution_count": 2,
     "metadata": {},
     "output_type": "execute_result"
    }
   ],
   "source": [
    "{\n",
    "    \"eventId\": \"244ca386-89a5-4b7e-8ac4-4b7dd4fee74e\",\n",
    "    \"eventTimestamp\": \"11/12/2022 08:20:43\",\n",
    "    \"dataSource\": \"app\",\n",
    "    \"healthState\": \"good\",\n",
    "    \"generalHealthStats\": {\n",
    "        \"stepCount(cumulativeforday)\": 4000,\n",
    "        \"stress(0to5)\": 3,\n",
    "        \"bloodOxygen(mmHg)\": 95,\n",
    "        \"sleepHours\": 8,\n",
    "        \"REMsleepHours\": 4,\n",
    "        \"caloriesBurnt(cumulativeforday)\": 2000\n",
    "    },\n",
    "    \"user\": {\n",
    "        \"user_id\": \"fdde5bd5-1146-48df-94ef-d56532290901\",\n",
    "        \"firstname\": \"john\",\n",
    "        \"lastname\": \"doe\",\n",
    "        \"gender\": \"male\",\n",
    "        \"age\": 23,\n",
    "        \"weight(kg)\": 88,\n",
    "        \"height(cm)\": 176\n",
    "    },\n",
    "    \"vitals\": {\n",
    "        \"heartRate(bpm)\": 72,\n",
    "        \"systolicBloodPressure(mmHg)\": 130,\n",
    "        \"diastolicBloodPressure(mmHg)\": 70,\n",
    "        \"bodyTemperature(F)\": 98.6,\n",
    "        \"breathingFrequency(perminute)\": 15\n",
    "    }\n",
    "}\n"
   ]
  },
  {
   "cell_type": "code",
   "execution_count": 3,
   "id": "c618f4c9-ba46-4c8a-851b-dbd893f87c1b",
   "metadata": {},
   "outputs": [],
   "source": [
    "def fetch_random_date(start, end):\n",
    "    \"\"\"\n",
    "        This function will return a random datetime between two datetime \n",
    "        objects.\n",
    "    \"\"\"\n",
    "    delta = end - start\n",
    "    int_delta = (delta.days * 24 * 60 * 60) + delta.seconds\n",
    "    random_second = randrange(int_delta)\n",
    "    return start + timedelta(seconds=random_second)"
   ]
  },
  {
   "cell_type": "code",
   "execution_count": 4,
   "id": "95a3b333-80f2-4dfd-a4ef-b1e11b5bf570",
   "metadata": {},
   "outputs": [],
   "source": [
    "# take existing user ids\n",
    "    # for only those users\n",
    "        # generate timestamps appropriately within a range\n",
    "        # generate vitals such that they increase/decrease together and define ranges of each attribute\n",
    "        # generate label according to vitals - only for outliers"
   ]
  },
  {
   "cell_type": "code",
   "execution_count": 5,
   "id": "d46b07b2-be78-4f34-8f80-eea939d2c71d",
   "metadata": {},
   "outputs": [],
   "source": [
    "df = pd.read_csv('data_dump.csv')"
   ]
  },
  {
   "cell_type": "code",
   "execution_count": 6,
   "id": "8a11ae01-bb2e-4011-94ef-89930ec4bab7",
   "metadata": {},
   "outputs": [
    {
     "data": {
      "text/html": [
       "<div>\n",
       "<style scoped>\n",
       "    .dataframe tbody tr th:only-of-type {\n",
       "        vertical-align: middle;\n",
       "    }\n",
       "\n",
       "    .dataframe tbody tr th {\n",
       "        vertical-align: top;\n",
       "    }\n",
       "\n",
       "    .dataframe thead th {\n",
       "        text-align: right;\n",
       "    }\n",
       "</style>\n",
       "<table border=\"1\" class=\"dataframe\">\n",
       "  <thead>\n",
       "    <tr style=\"text-align: right;\">\n",
       "      <th></th>\n",
       "      <th>Unnamed: 0</th>\n",
       "      <th>eventId</th>\n",
       "      <th>eventTimestamp</th>\n",
       "      <th>dataSource</th>\n",
       "      <th>healthState</th>\n",
       "      <th>generalHealthStats</th>\n",
       "      <th>user</th>\n",
       "      <th>vitals</th>\n",
       "      <th>stepCount(cumulativeforday)</th>\n",
       "      <th>bloodOxygenAvg(mmHg)</th>\n",
       "      <th>...</th>\n",
       "      <th>lastname</th>\n",
       "      <th>gender</th>\n",
       "      <th>age</th>\n",
       "      <th>weight(kg)</th>\n",
       "      <th>height(cm)</th>\n",
       "      <th>heartRate(bpm)</th>\n",
       "      <th>systolicBloodPressure(mmHg)</th>\n",
       "      <th>diastolicBloodPressure(mmHg)</th>\n",
       "      <th>bodyTemperature(F)</th>\n",
       "      <th>breathingFrequency(perminute)</th>\n",
       "    </tr>\n",
       "  </thead>\n",
       "  <tbody>\n",
       "    <tr>\n",
       "      <th>0</th>\n",
       "      <td>0</td>\n",
       "      <td>0383a7e7-807a-4dd1-9cc6-e5fee9fc1b10</td>\n",
       "      <td>2022-09-14 00:31:33</td>\n",
       "      <td>manual</td>\n",
       "      <td>good</td>\n",
       "      <td>{'stepCount(cumulativeforday)': 8151, 'bloodOx...</td>\n",
       "      <td>{'user_id': 'd96c2414-cbfa-462e-9851-c2163242c...</td>\n",
       "      <td>{'heartRate(bpm)': 71, 'systolicBloodPressure(...</td>\n",
       "      <td>8151</td>\n",
       "      <td>98</td>\n",
       "      <td>...</td>\n",
       "      <td>Martinez</td>\n",
       "      <td>female</td>\n",
       "      <td>25</td>\n",
       "      <td>51</td>\n",
       "      <td>190</td>\n",
       "      <td>71</td>\n",
       "      <td>86</td>\n",
       "      <td>121</td>\n",
       "      <td>98</td>\n",
       "      <td>15</td>\n",
       "    </tr>\n",
       "    <tr>\n",
       "      <th>1</th>\n",
       "      <td>1</td>\n",
       "      <td>7adc9f1a-bbae-41b5-a458-619784f76589</td>\n",
       "      <td>2022-10-11 22:14:39</td>\n",
       "      <td>manual</td>\n",
       "      <td>good</td>\n",
       "      <td>{'stepCount(cumulativeforday)': 21112, 'bloodO...</td>\n",
       "      <td>{'user_id': '0e2975b0-c8f5-47f5-870b-91e31b667...</td>\n",
       "      <td>{'heartRate(bpm)': 82, 'systolicBloodPressure(...</td>\n",
       "      <td>21112</td>\n",
       "      <td>90</td>\n",
       "      <td>...</td>\n",
       "      <td>Wright</td>\n",
       "      <td>male</td>\n",
       "      <td>15</td>\n",
       "      <td>33</td>\n",
       "      <td>112</td>\n",
       "      <td>82</td>\n",
       "      <td>58</td>\n",
       "      <td>126</td>\n",
       "      <td>100</td>\n",
       "      <td>18</td>\n",
       "    </tr>\n",
       "    <tr>\n",
       "      <th>2</th>\n",
       "      <td>2</td>\n",
       "      <td>13777fca-fe90-4d9e-84d1-572167023b49</td>\n",
       "      <td>2022-10-12 21:20:54</td>\n",
       "      <td>manual</td>\n",
       "      <td>bad</td>\n",
       "      <td>{'stepCount(cumulativeforday)': 2745, 'bloodOx...</td>\n",
       "      <td>{'user_id': '83e13045-de5a-471f-8a07-84dcca9ca...</td>\n",
       "      <td>{'heartRate(bpm)': 69, 'systolicBloodPressure(...</td>\n",
       "      <td>2745</td>\n",
       "      <td>93</td>\n",
       "      <td>...</td>\n",
       "      <td>Maria</td>\n",
       "      <td>male</td>\n",
       "      <td>35</td>\n",
       "      <td>45</td>\n",
       "      <td>190</td>\n",
       "      <td>69</td>\n",
       "      <td>80</td>\n",
       "      <td>106</td>\n",
       "      <td>100</td>\n",
       "      <td>10</td>\n",
       "    </tr>\n",
       "    <tr>\n",
       "      <th>3</th>\n",
       "      <td>3</td>\n",
       "      <td>d36a5d0c-616e-4da7-a5ce-8747c5733b55</td>\n",
       "      <td>2022-08-25 12:44:40</td>\n",
       "      <td>app</td>\n",
       "      <td>bad</td>\n",
       "      <td>{'stepCount(cumulativeforday)': 4882, 'bloodOx...</td>\n",
       "      <td>{'user_id': '37f86216-dfe2-4796-bcb0-b05a01346...</td>\n",
       "      <td>{'heartRate(bpm)': 86, 'systolicBloodPressure(...</td>\n",
       "      <td>4882</td>\n",
       "      <td>96</td>\n",
       "      <td>...</td>\n",
       "      <td>Rivas</td>\n",
       "      <td>female</td>\n",
       "      <td>15</td>\n",
       "      <td>37</td>\n",
       "      <td>108</td>\n",
       "      <td>86</td>\n",
       "      <td>53</td>\n",
       "      <td>115</td>\n",
       "      <td>99</td>\n",
       "      <td>13</td>\n",
       "    </tr>\n",
       "    <tr>\n",
       "      <th>4</th>\n",
       "      <td>4</td>\n",
       "      <td>74792c48-0939-4e77-aaa9-8bbe3ed1c08c</td>\n",
       "      <td>2022-09-07 11:59:19</td>\n",
       "      <td>manual</td>\n",
       "      <td>bad</td>\n",
       "      <td>{'stepCount(cumulativeforday)': 10145, 'bloodO...</td>\n",
       "      <td>{'user_id': '7ffe75be-1e87-4c77-a692-c64f5c195...</td>\n",
       "      <td>{'heartRate(bpm)': 85, 'systolicBloodPressure(...</td>\n",
       "      <td>10145</td>\n",
       "      <td>95</td>\n",
       "      <td>...</td>\n",
       "      <td>Adams</td>\n",
       "      <td>male</td>\n",
       "      <td>51</td>\n",
       "      <td>44</td>\n",
       "      <td>162</td>\n",
       "      <td>85</td>\n",
       "      <td>84</td>\n",
       "      <td>129</td>\n",
       "      <td>100</td>\n",
       "      <td>21</td>\n",
       "    </tr>\n",
       "  </tbody>\n",
       "</table>\n",
       "<p>5 rows × 26 columns</p>\n",
       "</div>"
      ],
      "text/plain": [
       "   Unnamed: 0                               eventId       eventTimestamp  \\\n",
       "0           0  0383a7e7-807a-4dd1-9cc6-e5fee9fc1b10  2022-09-14 00:31:33   \n",
       "1           1  7adc9f1a-bbae-41b5-a458-619784f76589  2022-10-11 22:14:39   \n",
       "2           2  13777fca-fe90-4d9e-84d1-572167023b49  2022-10-12 21:20:54   \n",
       "3           3  d36a5d0c-616e-4da7-a5ce-8747c5733b55  2022-08-25 12:44:40   \n",
       "4           4  74792c48-0939-4e77-aaa9-8bbe3ed1c08c  2022-09-07 11:59:19   \n",
       "\n",
       "  dataSource healthState                                 generalHealthStats  \\\n",
       "0     manual        good  {'stepCount(cumulativeforday)': 8151, 'bloodOx...   \n",
       "1     manual        good  {'stepCount(cumulativeforday)': 21112, 'bloodO...   \n",
       "2     manual         bad  {'stepCount(cumulativeforday)': 2745, 'bloodOx...   \n",
       "3        app         bad  {'stepCount(cumulativeforday)': 4882, 'bloodOx...   \n",
       "4     manual         bad  {'stepCount(cumulativeforday)': 10145, 'bloodO...   \n",
       "\n",
       "                                                user  \\\n",
       "0  {'user_id': 'd96c2414-cbfa-462e-9851-c2163242c...   \n",
       "1  {'user_id': '0e2975b0-c8f5-47f5-870b-91e31b667...   \n",
       "2  {'user_id': '83e13045-de5a-471f-8a07-84dcca9ca...   \n",
       "3  {'user_id': '37f86216-dfe2-4796-bcb0-b05a01346...   \n",
       "4  {'user_id': '7ffe75be-1e87-4c77-a692-c64f5c195...   \n",
       "\n",
       "                                              vitals  \\\n",
       "0  {'heartRate(bpm)': 71, 'systolicBloodPressure(...   \n",
       "1  {'heartRate(bpm)': 82, 'systolicBloodPressure(...   \n",
       "2  {'heartRate(bpm)': 69, 'systolicBloodPressure(...   \n",
       "3  {'heartRate(bpm)': 86, 'systolicBloodPressure(...   \n",
       "4  {'heartRate(bpm)': 85, 'systolicBloodPressure(...   \n",
       "\n",
       "   stepCount(cumulativeforday)  bloodOxygenAvg(mmHg)  ...  lastname  gender  \\\n",
       "0                         8151                    98  ...  Martinez  female   \n",
       "1                        21112                    90  ...    Wright    male   \n",
       "2                         2745                    93  ...     Maria    male   \n",
       "3                         4882                    96  ...     Rivas  female   \n",
       "4                        10145                    95  ...     Adams    male   \n",
       "\n",
       "   age  weight(kg) height(cm) heartRate(bpm) systolicBloodPressure(mmHg)  \\\n",
       "0   25          51        190             71                          86   \n",
       "1   15          33        112             82                          58   \n",
       "2   35          45        190             69                          80   \n",
       "3   15          37        108             86                          53   \n",
       "4   51          44        162             85                          84   \n",
       "\n",
       "  diastolicBloodPressure(mmHg)  bodyTemperature(F)  \\\n",
       "0                          121                  98   \n",
       "1                          126                 100   \n",
       "2                          106                 100   \n",
       "3                          115                  99   \n",
       "4                          129                 100   \n",
       "\n",
       "   breathingFrequency(perminute)  \n",
       "0                             15  \n",
       "1                             18  \n",
       "2                             10  \n",
       "3                             13  \n",
       "4                             21  \n",
       "\n",
       "[5 rows x 26 columns]"
      ]
     },
     "execution_count": 6,
     "metadata": {},
     "output_type": "execute_result"
    }
   ],
   "source": [
    "df.head()"
   ]
  },
  {
   "cell_type": "code",
   "execution_count": 7,
   "id": "d79a2d00-ae82-448e-898b-a2cc091447dc",
   "metadata": {},
   "outputs": [
    {
     "data": {
      "text/plain": [
       "Index(['Unnamed: 0', 'eventId', 'eventTimestamp', 'dataSource', 'healthState',\n",
       "       'generalHealthStats', 'user', 'vitals', 'stepCount(cumulativeforday)',\n",
       "       'bloodOxygenAvg(mmHg)', 'stress(0to5)', 'sleepHours', 'REMsleepHours',\n",
       "       'caloriesBurnt(cumulativeforday)', 'user_id', 'firstname', 'lastname',\n",
       "       'gender', 'age', 'weight(kg)', 'height(cm)', 'heartRate(bpm)',\n",
       "       'systolicBloodPressure(mmHg)', 'diastolicBloodPressure(mmHg)',\n",
       "       'bodyTemperature(F)', 'breathingFrequency(perminute)'],\n",
       "      dtype='object')"
      ]
     },
     "execution_count": 7,
     "metadata": {},
     "output_type": "execute_result"
    }
   ],
   "source": [
    "df.columns"
   ]
  },
  {
   "cell_type": "code",
   "execution_count": null,
   "id": "2dbd7637-5a2a-48ea-b977-1ccce05be34b",
   "metadata": {},
   "outputs": [],
   "source": []
  },
  {
   "cell_type": "markdown",
   "id": "97e08f1b-16ca-4daf-97c7-7bfdaaa3d987",
   "metadata": {},
   "source": [
    "# generate timestamps / random numbers"
   ]
  },
  {
   "cell_type": "code",
   "execution_count": 10,
   "id": "80fc7a39-5332-4d8c-ae5e-588f64a6c5c3",
   "metadata": {},
   "outputs": [],
   "source": [
    "numbers = []\n",
    "for i in range(100_000):\n",
    "    numbers.append(random.random())"
   ]
  },
  {
   "cell_type": "code",
   "execution_count": 333,
   "id": "68444865-bf50-4b90-91a8-9c5a2c79c489",
   "metadata": {},
   "outputs": [
    {
     "data": {
      "text/plain": [
       "0.7746166259698497"
      ]
     },
     "execution_count": 333,
     "metadata": {},
     "output_type": "execute_result"
    }
   ],
   "source": [
    "random.random()"
   ]
  },
  {
   "cell_type": "code",
   "execution_count": 11,
   "id": "6065d66b-c444-49fb-b6d3-ae55f0f27ab4",
   "metadata": {},
   "outputs": [
    {
     "name": "stderr",
     "output_type": "stream",
     "text": [
      "/tmp/ipykernel_118/1897107701.py:1: UserWarning: \n",
      "\n",
      "`distplot` is a deprecated function and will be removed in seaborn v0.14.0.\n",
      "\n",
      "Please adapt your code to use either `displot` (a figure-level function with\n",
      "similar flexibility) or `histplot` (an axes-level function for histograms).\n",
      "\n",
      "For a guide to updating your code to use the new functions, please see\n",
      "https://gist.github.com/mwaskom/de44147ed2974457ad6372750bbe5751\n",
      "\n",
      "  sns.distplot(numbers)\n"
     ]
    },
    {
     "data": {
      "text/plain": [
       "<AxesSubplot: ylabel='Density'>"
      ]
     },
     "execution_count": 11,
     "metadata": {},
     "output_type": "execute_result"
    },
    {
     "data": {
      "image/png": "[encoded data removed]",
      "text/plain": [
       "<Figure size 640x480 with 1 Axes>"
      ]
     },
     "metadata": {},
     "output_type": "display_data"
    }
   ],
   "source": [
    "sns.distplot(numbers)"
   ]
  },
  {
   "cell_type": "code",
   "execution_count": 396,
   "id": "1dab4233-5759-479b-bb68-033c2d73a224",
   "metadata": {},
   "outputs": [
    {
     "data": {
      "text/plain": [
       "-0.18498145346035735"
      ]
     },
     "execution_count": 396,
     "metadata": {},
     "output_type": "execute_result"
    }
   ],
   "source": [
    "numbers = []\n",
    "mu, sigma = 0, 0.1\n",
    "numbers = np.random.normal(0, 0.1, 1)[0]\n",
    "numbers"
   ]
  },
  {
   "cell_type": "code",
   "execution_count": 13,
   "id": "344c4151-b51c-4e26-9156-ba4eed922ab6",
   "metadata": {},
   "outputs": [
    {
     "name": "stderr",
     "output_type": "stream",
     "text": [
      "/tmp/ipykernel_118/1897107701.py:1: UserWarning: \n",
      "\n",
      "`distplot` is a deprecated function and will be removed in seaborn v0.14.0.\n",
      "\n",
      "Please adapt your code to use either `displot` (a figure-level function with\n",
      "similar flexibility) or `histplot` (an axes-level function for histograms).\n",
      "\n",
      "For a guide to updating your code to use the new functions, please see\n",
      "https://gist.github.com/mwaskom/de44147ed2974457ad6372750bbe5751\n",
      "\n",
      "  sns.distplot(numbers)\n"
     ]
    },
    {
     "data": {
      "text/plain": [
       "<AxesSubplot: ylabel='Density'>"
      ]
     },
     "execution_count": 13,
     "metadata": {},
     "output_type": "execute_result"
    },
    {
     "data": {
      "image/png": "[encoded data removed]",
      "text/plain": [
       "<Figure size 640x480 with 1 Axes>"
      ]
     },
     "metadata": {},
     "output_type": "display_data"
    }
   ],
   "source": [
    "sns.distplot(numbers)"
   ]
  },
  {
   "cell_type": "code",
   "execution_count": 14,
   "id": "6870f1eb-9709-43eb-9b94-b664229d148b",
   "metadata": {},
   "outputs": [
    {
     "data": {
      "text/plain": [
       "(-0.5001529235118839, 0.40872693411312283)"
      ]
     },
     "execution_count": 14,
     "metadata": {},
     "output_type": "execute_result"
    }
   ],
   "source": [
    "np.min(numbers), np.max(numbers)"
   ]
  },
  {
   "cell_type": "code",
   "execution_count": null,
   "id": "08cfab12-c398-4846-9ecf-08ca8e0294f8",
   "metadata": {},
   "outputs": [],
   "source": []
  },
  {
   "cell_type": "code",
   "execution_count": 15,
   "id": "4478d418-2c44-480b-8608-418852b9b1c4",
   "metadata": {},
   "outputs": [],
   "source": [
    "numbers = np.random.normal(mu, 3, 1_00_000)\n",
    "numbers = np.round(numbers)"
   ]
  },
  {
   "cell_type": "code",
   "execution_count": 16,
   "id": "ec4ca30b-a2cc-4ef0-bb61-d1180eedb698",
   "metadata": {},
   "outputs": [
    {
     "name": "stderr",
     "output_type": "stream",
     "text": [
      "/tmp/ipykernel_118/1897107701.py:1: UserWarning: \n",
      "\n",
      "`distplot` is a deprecated function and will be removed in seaborn v0.14.0.\n",
      "\n",
      "Please adapt your code to use either `displot` (a figure-level function with\n",
      "similar flexibility) or `histplot` (an axes-level function for histograms).\n",
      "\n",
      "For a guide to updating your code to use the new functions, please see\n",
      "https://gist.github.com/mwaskom/de44147ed2974457ad6372750bbe5751\n",
      "\n",
      "  sns.distplot(numbers)\n"
     ]
    },
    {
     "data": {
      "text/plain": [
       "<AxesSubplot: ylabel='Density'>"
      ]
     },
     "execution_count": 16,
     "metadata": {},
     "output_type": "execute_result"
    },
    {
     "data": {
      "image/png": "[encoded data removed]",
      "text/plain": [
       "<Figure size 640x480 with 1 Axes>"
      ]
     },
     "metadata": {},
     "output_type": "display_data"
    }
   ],
   "source": [
    "sns.distplot(numbers)"
   ]
  },
  {
   "cell_type": "code",
   "execution_count": 17,
   "id": "2dfa5199-6419-4ac9-807d-b13aaf1281c7",
   "metadata": {},
   "outputs": [
    {
     "data": {
      "text/plain": [
       "(-14.0, 13.0)"
      ]
     },
     "execution_count": 17,
     "metadata": {},
     "output_type": "execute_result"
    }
   ],
   "source": [
    "np.min(numbers), np.max(numbers)"
   ]
  },
  {
   "cell_type": "code",
   "execution_count": 18,
   "id": "33a28461-dc61-49af-8f60-c64c06e101ac",
   "metadata": {},
   "outputs": [],
   "source": [
    "numbers = []\n",
    "for i in range(1_00_000):\n",
    "    numbers.append(secrets.randbelow(1000))"
   ]
  },
  {
   "cell_type": "code",
   "execution_count": 19,
   "id": "b5f0e41a-d6bc-4eaf-9ace-2e0648dcf612",
   "metadata": {},
   "outputs": [
    {
     "name": "stderr",
     "output_type": "stream",
     "text": [
      "/tmp/ipykernel_118/1897107701.py:1: UserWarning: \n",
      "\n",
      "`distplot` is a deprecated function and will be removed in seaborn v0.14.0.\n",
      "\n",
      "Please adapt your code to use either `displot` (a figure-level function with\n",
      "similar flexibility) or `histplot` (an axes-level function for histograms).\n",
      "\n",
      "For a guide to updating your code to use the new functions, please see\n",
      "https://gist.github.com/mwaskom/de44147ed2974457ad6372750bbe5751\n",
      "\n",
      "  sns.distplot(numbers)\n"
     ]
    },
    {
     "data": {
      "text/plain": [
       "<AxesSubplot: ylabel='Density'>"
      ]
     },
     "execution_count": 19,
     "metadata": {},
     "output_type": "execute_result"
    },
    {
     "data": {
      "image/png": "[encoded data removed]",
      "text/plain": [
       "<Figure size 640x480 with 1 Axes>"
      ]
     },
     "metadata": {},
     "output_type": "display_data"
    }
   ],
   "source": [
    "sns.distplot(numbers)"
   ]
  },
  {
   "cell_type": "code",
   "execution_count": null,
   "id": "8f911f86-d53e-4220-9628-594d580c5fca",
   "metadata": {},
   "outputs": [],
   "source": []
  },
  {
   "cell_type": "code",
   "execution_count": 20,
   "id": "44485a39-f742-41b1-8721-18ec4ec62d5c",
   "metadata": {},
   "outputs": [],
   "source": [
    "from scipy.stats import truncnorm\n",
    "\n",
    "def get_truncated_normal(mean=0, sd=1, low=0, upp=10):\n",
    "    return truncnorm(\n",
    "        (low - mean) / sd, (upp - mean) / sd, loc=mean, scale=sd)\n",
    "\n",
    "X = get_truncated_normal(mean=100, sd=1, low=98.8, upp=101)\n",
    "numbers = X.rvs(100_000)"
   ]
  },
  {
   "cell_type": "code",
   "execution_count": 21,
   "id": "1b1538c1-086b-46ca-a744-13fa25456db1",
   "metadata": {},
   "outputs": [
    {
     "name": "stderr",
     "output_type": "stream",
     "text": [
      "/tmp/ipykernel_118/1897107701.py:1: UserWarning: \n",
      "\n",
      "`distplot` is a deprecated function and will be removed in seaborn v0.14.0.\n",
      "\n",
      "Please adapt your code to use either `displot` (a figure-level function with\n",
      "similar flexibility) or `histplot` (an axes-level function for histograms).\n",
      "\n",
      "For a guide to updating your code to use the new functions, please see\n",
      "https://gist.github.com/mwaskom/de44147ed2974457ad6372750bbe5751\n",
      "\n",
      "  sns.distplot(numbers)\n"
     ]
    },
    {
     "data": {
      "text/plain": [
       "<AxesSubplot: ylabel='Density'>"
      ]
     },
     "execution_count": 21,
     "metadata": {},
     "output_type": "execute_result"
    },
    {
     "data": {
      "image/png": "[encoded data removed]",
      "text/plain": [
       "<Figure size 640x480 with 1 Axes>"
      ]
     },
     "metadata": {},
     "output_type": "display_data"
    }
   ],
   "source": [
    "sns.distplot(numbers)"
   ]
  },
  {
   "cell_type": "code",
   "execution_count": null,
   "id": "92abed03-9d97-4d25-beba-57f060ba8376",
   "metadata": {},
   "outputs": [],
   "source": []
  },
  {
   "cell_type": "markdown",
   "id": "8146c2af-e13e-49b5-a764-7a7e852db028",
   "metadata": {},
   "source": [
    "### Core synthesis"
   ]
  },
  {
   "cell_type": "code",
   "execution_count": 8,
   "id": "96773f9f-d2ca-4e9a-99dd-22e7101e3627",
   "metadata": {
    "tags": []
   },
   "outputs": [],
   "source": [
    "MIN_TEMPERATURE = 97\n",
    "MAX_TEMPERATURE = 103\n",
    "\n",
    "MIN_AGE = 1\n",
    "NEW_BORN_AGE = 5\n",
    "ADOLESCENT_AGE = 15\n",
    "\n",
    "MIN_WEIGHT = 4\n",
    "MAX_WEIGHT = 120\n",
    "\n",
    "MIN_HEIGHT = 50\n",
    "MAX_HEIGHT = 200\n",
    "\n",
    "MORNING_HOUR = 6\n",
    "NOON_HOUR = 12\n",
    "EVENING_HOUR = 18\n",
    "\n",
    "MAX_STEP_COUNT = 30_000\n",
    "\n",
    "MAX_CALORIES_BURNT = 3_000\n",
    "\n",
    "MIN_HEART_RATE = 50\n",
    "MAX_HEART_RATE = 150\n",
    "\n",
    "MIN_SYS_BP = 50\n",
    "MAX_SYS_BP = 90\n",
    "\n",
    "MIN_DIA_BP = 100\n",
    "MAX_DIA_BP = 140\n",
    "\n",
    "MIN_BREATH_FREQUENCY = 10\n",
    "\n",
    "MIN_O2_AVG = 90\n",
    "\n",
    "event_data = {}\n",
    "for idx, user_id in enumerate(df['user_id'].unique().tolist()[:1000]):\n",
    "    \n",
    "    user = {}\n",
    "\n",
    "    user['user_id'] = str(uuid.uuid4())\n",
    "\n",
    "    name = fake.name()\n",
    "    user['firstname'] = name.split(' ')[0]\n",
    "    user['lastname'] = name.split(' ')[1]\n",
    "\n",
    "    random_no = secrets.randbelow(2)\n",
    "    gender = 'male' if random_no == 1 else 'female'\n",
    "    user['gender'] = gender\n",
    "\n",
    "    age = MIN_AGE + secrets.randbelow(65)\n",
    "    user['age'] = age\n",
    "    \n",
    "    if age < NEW_BORN_AGE:\n",
    "        weight = MIN_WEIGHT + secrets.randbelow(10)\n",
    "        height = MIN_HEIGHT + secrets.randbelow(40)\n",
    "        \n",
    "    elif NEW_BORN_AGE <= age <= ADOLESCENT_AGE:\n",
    "        weight = 20 + secrets.randbelow(20)\n",
    "        height = 70 + secrets.randbelow(60)\n",
    "        \n",
    "    elif age > ADOLESCENT_AGE:\n",
    "        weight = 40 + secrets.randbelow(80)\n",
    "        height = 140 + secrets.randbelow(60)\n",
    "\n",
    "    user['weight(kg)'] = weight\n",
    "    user['height(cm)'] = height\n",
    "\n",
    "    # pick random number of time intervals (1,10)\n",
    "    intervals_count = 1 + secrets.randbelow(10)\n",
    "\n",
    "    # pick random number of time frames between start and end date for all intervals\n",
    "    for interval in range(intervals_count):\n",
    "        interval_recordings = secrets.randbelow(30)\n",
    "\n",
    "        start_date = datetime(2022, 8, 1)\n",
    "        end_date = datetime(2022, 12, 31)\n",
    "\n",
    "        first_ts = fetch_random_date(start_date, end_date)\n",
    "        event_ts = first_ts\n",
    "        \n",
    "        hour_of_the_day = event_ts.hour\n",
    "        \n",
    "        \n",
    "        if hour_of_the_day <= MORNING_HOUR:\n",
    "            stepCount = secrets.randbelow(500)\n",
    "            caloriesBurnt = secrets.randbelow(200)\n",
    "            \n",
    "        elif hour_of_the_day > MORNING_HOUR and hour_of_the_day <= NOON_HOUR:\n",
    "            stepCount = secrets.randbelow(8000)\n",
    "            caloriesBurnt = secrets.randbelow(800)\n",
    "            \n",
    "        elif hour_of_the_day > NOON_HOUR and hour_of_the_day <= EVENING_HOUR:\n",
    "            stepCount = secrets.randbelow(15_000)\n",
    "            caloriesBurnt = secrets.randbelow(1500)\n",
    "            \n",
    "        elif hour_of_the_day > EVENING_HOUR:\n",
    "            stepCount = secrets.randbelow(MAX_STEP_COUNT)\n",
    "            caloriesBurnt = secrets.randbelow(MAX_CALORIES_BURNT)\n",
    "\n",
    "        sleepHours = 4 + secrets.randbelow(6)\n",
    "        \n",
    "        REMsleepHours = secrets.randbelow(4)\n",
    "        \n",
    "        bodyTemperature = 98 + secrets.randbelow(3)\n",
    "        \n",
    "        for recording in range(interval_recordings):\n",
    "            event = {}\n",
    "            \n",
    "            event['user'] = user\n",
    "            \n",
    "            min_increment = 1\n",
    "            additional_mins = (min_increment + secrets.randbelow(5))\n",
    "            additional_sec = secrets.randbelow(30)\n",
    "            event_ts = event_ts + timedelta(minutes=additional_mins, seconds=additional_sec)\n",
    "            \n",
    "            event['eventTimestamp'] = event_ts\n",
    "            \n",
    "            random_no = secrets.randbelow(2)\n",
    "            source = 'app' if random_no == 1 else 'manual'\n",
    "            event['dataSource'] = source\n",
    "            \n",
    "            event_id = str(uuid.uuid4())\n",
    "            event['eventId'] = event_id\n",
    "            \n",
    "            vitals = {}\n",
    "            \n",
    "            heartRate = MIN_HEART_RATE + secrets.randbelow(100)\n",
    "            vitals['heartRate(bpm)'] = heartRate\n",
    "            \n",
    "            systolicBloodPressure = MIN_SYS_BP + secrets.randbelow(40)\n",
    "            vitals['systolicBloodPressure(mmHg)'] = systolicBloodPressure\n",
    "            \n",
    "            diastolicBloodPressure = MIN_DIA_BP + secrets.randbelow(40)\n",
    "            vitals['diastolicBloodPressure(mmHg)'] = diastolicBloodPressure\n",
    "            \n",
    "            random_sign = secrets.randbelow(2)\n",
    "            random_sign = random_sign if random_sign == 1 else -1\n",
    "            bodyTemperature += random_sign * round(random.random(), 2)\n",
    "            bodyTemperature = round(bodyTemperature, 2)\n",
    "            if bodyTemperature <= MIN_TEMPERATURE:\n",
    "                bodyTemperature = MIN_TEMPERATURE\n",
    "            elif bodyTemperature >= MAX_TEMPERATURE:\n",
    "                bodyTemperature = MAX_TEMPERATURE\n",
    "            vitals['bodyTemperature(F)'] = bodyTemperature\n",
    "\n",
    "            breathingFrequency = MIN_BREATH_FREQUENCY + secrets.randbelow(12)\n",
    "            vitals['breathingFrequency(perminute)'] = breathingFrequency\n",
    "\n",
    "            event['vitals'] = vitals\n",
    "            \n",
    "            generalHealthStats = {}\n",
    "            \n",
    "            min_increment = secrets.randbelow(10)\n",
    "            additional_steps = (min_increment + secrets.randbelow(100))\n",
    "            \n",
    "            stepCount = stepCount + additional_steps\n",
    "            \n",
    "            generalHealthStats['stepCount(cumulativeforday)'] = stepCount\n",
    "\n",
    "            bloodOxygenAvg = MIN_O2_AVG + secrets.randbelow(10)\n",
    "            generalHealthStats['bloodOxygenAvg(mmHg)'] = bloodOxygenAvg\n",
    "\n",
    "            stress = secrets.randbelow(5)\n",
    "            generalHealthStats['stress(0to5)'] = stress\n",
    "\n",
    "            generalHealthStats['sleepHours'] = sleepHours\n",
    "\n",
    "            generalHealthStats['REMsleepHours'] = REMsleepHours\n",
    "\n",
    "            min_increment = secrets.randbelow(20)\n",
    "            additional_calories = (min_increment + secrets.randbelow(200))\n",
    "            caloriesBurnt = caloriesBurnt + additional_calories\n",
    "            \n",
    "            generalHealthStats['caloriesBurnt(cumulativeforday)'] = caloriesBurnt\n",
    "\n",
    "            event['generalHealthStats'] = generalHealthStats\n",
    "            \n",
    "            event_data[f'{event_id}'] = event\n",
    "            "
   ]
  },
  {
   "cell_type": "code",
   "execution_count": 20,
   "id": "4a009d8b-e172-42b6-af1a-5df2624fbc55",
   "metadata": {},
   "outputs": [],
   "source": [
    "df_records = pd.DataFrame(event_data).T.reset_index(drop=True)\n",
    "df_records = pd.concat([df_records, \n",
    "                        df_records['generalHealthStats'].apply(lambda x: pd.Series(x)), \n",
    "                        df_records['user'].apply(lambda x: pd.Series(x)), \n",
    "                        df_records['vitals'].apply(lambda x: pd.Series(x))\n",
    "                       ], axis=1)"
   ]
  },
  {
   "cell_type": "code",
   "execution_count": 21,
   "id": "3a2b7d94-4eeb-4b8a-afbf-b8a01b5810b9",
   "metadata": {},
   "outputs": [
    {
     "data": {
      "text/html": [
       "<div>\n",
       "<style scoped>\n",
       "    .dataframe tbody tr th:only-of-type {\n",
       "        vertical-align: middle;\n",
       "    }\n",
       "\n",
       "    .dataframe tbody tr th {\n",
       "        vertical-align: top;\n",
       "    }\n",
       "\n",
       "    .dataframe thead th {\n",
       "        text-align: right;\n",
       "    }\n",
       "</style>\n",
       "<table border=\"1\" class=\"dataframe\">\n",
       "  <thead>\n",
       "    <tr style=\"text-align: right;\">\n",
       "      <th></th>\n",
       "      <th>eventTimestamp</th>\n",
       "      <th>dataSource</th>\n",
       "      <th>eventId</th>\n",
       "      <th>stepCount(cumulativeforday)</th>\n",
       "      <th>bloodOxygenAvg(mmHg)</th>\n",
       "      <th>stress(0to5)</th>\n",
       "      <th>sleepHours</th>\n",
       "      <th>REMsleepHours</th>\n",
       "      <th>caloriesBurnt(cumulativeforday)</th>\n",
       "      <th>user_id</th>\n",
       "      <th>...</th>\n",
       "      <th>lastname</th>\n",
       "      <th>gender</th>\n",
       "      <th>age</th>\n",
       "      <th>weight(kg)</th>\n",
       "      <th>height(cm)</th>\n",
       "      <th>heartRate(bpm)</th>\n",
       "      <th>systolicBloodPressure(mmHg)</th>\n",
       "      <th>diastolicBloodPressure(mmHg)</th>\n",
       "      <th>bodyTemperature(F)</th>\n",
       "      <th>breathingFrequency(perminute)</th>\n",
       "    </tr>\n",
       "  </thead>\n",
       "  <tbody>\n",
       "    <tr>\n",
       "      <th>0</th>\n",
       "      <td>2022-09-14 00:33:00</td>\n",
       "      <td>app</td>\n",
       "      <td>24876cc6-205b-49af-b891-525f7634925d</td>\n",
       "      <td>517</td>\n",
       "      <td>99</td>\n",
       "      <td>4</td>\n",
       "      <td>4</td>\n",
       "      <td>0</td>\n",
       "      <td>173</td>\n",
       "      <td>9b861c50-a774-4d85-aee3-5fffc5ff36fa</td>\n",
       "      <td>...</td>\n",
       "      <td>Martinez</td>\n",
       "      <td>male</td>\n",
       "      <td>16</td>\n",
       "      <td>51</td>\n",
       "      <td>184</td>\n",
       "      <td>97.0</td>\n",
       "      <td>86.0</td>\n",
       "      <td>103.0</td>\n",
       "      <td>99.63</td>\n",
       "      <td>13.0</td>\n",
       "    </tr>\n",
       "    <tr>\n",
       "      <th>1</th>\n",
       "      <td>2022-09-14 00:38:18</td>\n",
       "      <td>app</td>\n",
       "      <td>0252f2d6-7f26-4127-903f-2678562aad44</td>\n",
       "      <td>552</td>\n",
       "      <td>95</td>\n",
       "      <td>0</td>\n",
       "      <td>4</td>\n",
       "      <td>0</td>\n",
       "      <td>273</td>\n",
       "      <td>9b861c50-a774-4d85-aee3-5fffc5ff36fa</td>\n",
       "      <td>...</td>\n",
       "      <td>Martinez</td>\n",
       "      <td>male</td>\n",
       "      <td>16</td>\n",
       "      <td>51</td>\n",
       "      <td>184</td>\n",
       "      <td>63.0</td>\n",
       "      <td>89.0</td>\n",
       "      <td>100.0</td>\n",
       "      <td>100.01</td>\n",
       "      <td>20.0</td>\n",
       "    </tr>\n",
       "    <tr>\n",
       "      <th>2</th>\n",
       "      <td>2022-09-14 00:39:20</td>\n",
       "      <td>app</td>\n",
       "      <td>122a8c20-1d6b-4f75-89f9-9934b0b3a52e</td>\n",
       "      <td>627</td>\n",
       "      <td>99</td>\n",
       "      <td>0</td>\n",
       "      <td>4</td>\n",
       "      <td>0</td>\n",
       "      <td>395</td>\n",
       "      <td>9b861c50-a774-4d85-aee3-5fffc5ff36fa</td>\n",
       "      <td>...</td>\n",
       "      <td>Martinez</td>\n",
       "      <td>male</td>\n",
       "      <td>16</td>\n",
       "      <td>51</td>\n",
       "      <td>184</td>\n",
       "      <td>80.0</td>\n",
       "      <td>87.0</td>\n",
       "      <td>139.0</td>\n",
       "      <td>100.20</td>\n",
       "      <td>19.0</td>\n",
       "    </tr>\n",
       "    <tr>\n",
       "      <th>3</th>\n",
       "      <td>2022-09-14 00:43:31</td>\n",
       "      <td>app</td>\n",
       "      <td>eaa1c950-1697-4a54-9dda-aaafab5a5ec1</td>\n",
       "      <td>709</td>\n",
       "      <td>90</td>\n",
       "      <td>2</td>\n",
       "      <td>4</td>\n",
       "      <td>0</td>\n",
       "      <td>466</td>\n",
       "      <td>9b861c50-a774-4d85-aee3-5fffc5ff36fa</td>\n",
       "      <td>...</td>\n",
       "      <td>Martinez</td>\n",
       "      <td>male</td>\n",
       "      <td>16</td>\n",
       "      <td>51</td>\n",
       "      <td>184</td>\n",
       "      <td>124.0</td>\n",
       "      <td>52.0</td>\n",
       "      <td>119.0</td>\n",
       "      <td>100.24</td>\n",
       "      <td>18.0</td>\n",
       "    </tr>\n",
       "    <tr>\n",
       "      <th>4</th>\n",
       "      <td>2022-09-14 00:44:38</td>\n",
       "      <td>app</td>\n",
       "      <td>af44d314-c4bb-4ff8-9eec-76ca809df134</td>\n",
       "      <td>744</td>\n",
       "      <td>91</td>\n",
       "      <td>1</td>\n",
       "      <td>4</td>\n",
       "      <td>0</td>\n",
       "      <td>514</td>\n",
       "      <td>9b861c50-a774-4d85-aee3-5fffc5ff36fa</td>\n",
       "      <td>...</td>\n",
       "      <td>Martinez</td>\n",
       "      <td>male</td>\n",
       "      <td>16</td>\n",
       "      <td>51</td>\n",
       "      <td>184</td>\n",
       "      <td>148.0</td>\n",
       "      <td>70.0</td>\n",
       "      <td>114.0</td>\n",
       "      <td>100.38</td>\n",
       "      <td>17.0</td>\n",
       "    </tr>\n",
       "  </tbody>\n",
       "</table>\n",
       "<p>5 rows × 21 columns</p>\n",
       "</div>"
      ],
      "text/plain": [
       "       eventTimestamp dataSource                               eventId  \\\n",
       "0 2022-09-14 00:33:00        app  24876cc6-205b-49af-b891-525f7634925d   \n",
       "1 2022-09-14 00:38:18        app  0252f2d6-7f26-4127-903f-2678562aad44   \n",
       "2 2022-09-14 00:39:20        app  122a8c20-1d6b-4f75-89f9-9934b0b3a52e   \n",
       "3 2022-09-14 00:43:31        app  eaa1c950-1697-4a54-9dda-aaafab5a5ec1   \n",
       "4 2022-09-14 00:44:38        app  af44d314-c4bb-4ff8-9eec-76ca809df134   \n",
       "\n",
       "   stepCount(cumulativeforday)  bloodOxygenAvg(mmHg)  stress(0to5)  \\\n",
       "0                          517                    99             4   \n",
       "1                          552                    95             0   \n",
       "2                          627                    99             0   \n",
       "3                          709                    90             2   \n",
       "4                          744                    91             1   \n",
       "\n",
       "   sleepHours  REMsleepHours  caloriesBurnt(cumulativeforday)  \\\n",
       "0           4              0                              173   \n",
       "1           4              0                              273   \n",
       "2           4              0                              395   \n",
       "3           4              0                              466   \n",
       "4           4              0                              514   \n",
       "\n",
       "                                user_id  ...  lastname gender age  weight(kg)  \\\n",
       "0  9b861c50-a774-4d85-aee3-5fffc5ff36fa  ...  Martinez   male  16          51   \n",
       "1  9b861c50-a774-4d85-aee3-5fffc5ff36fa  ...  Martinez   male  16          51   \n",
       "2  9b861c50-a774-4d85-aee3-5fffc5ff36fa  ...  Martinez   male  16          51   \n",
       "3  9b861c50-a774-4d85-aee3-5fffc5ff36fa  ...  Martinez   male  16          51   \n",
       "4  9b861c50-a774-4d85-aee3-5fffc5ff36fa  ...  Martinez   male  16          51   \n",
       "\n",
       "   height(cm)  heartRate(bpm)  systolicBloodPressure(mmHg)  \\\n",
       "0         184            97.0                         86.0   \n",
       "1         184            63.0                         89.0   \n",
       "2         184            80.0                         87.0   \n",
       "3         184           124.0                         52.0   \n",
       "4         184           148.0                         70.0   \n",
       "\n",
       "   diastolicBloodPressure(mmHg)  bodyTemperature(F)  \\\n",
       "0                         103.0               99.63   \n",
       "1                         100.0              100.01   \n",
       "2                         139.0              100.20   \n",
       "3                         119.0              100.24   \n",
       "4                         114.0              100.38   \n",
       "\n",
       "   breathingFrequency(perminute)  \n",
       "0                           13.0  \n",
       "1                           20.0  \n",
       "2                           19.0  \n",
       "3                           18.0  \n",
       "4                           17.0  \n",
       "\n",
       "[5 rows x 21 columns]"
      ]
     },
     "execution_count": 21,
     "metadata": {},
     "output_type": "execute_result"
    }
   ],
   "source": [
    "cols = [col for col in df_records.columns if col not in ['user', 'vitals', 'generalHealthStats']]\n",
    "df_records[cols].head(5)"
   ]
  },
  {
   "cell_type": "code",
   "execution_count": 22,
   "id": "5d88d9de-640c-47b8-90c4-83c0b3c6e2f5",
   "metadata": {},
   "outputs": [],
   "source": [
    "df_records.to_csv('time_series_dump.csv')"
   ]
  },
  {
   "cell_type": "markdown",
   "id": "aace99f7-b02c-40d1-9eb1-66aa974c96a8",
   "metadata": {},
   "source": [
    "### Vitals"
   ]
  },
  {
   "cell_type": "code",
   "execution_count": 23,
   "id": "8944c6e4-01a9-4089-bb67-7e3fe88b4853",
   "metadata": {},
   "outputs": [],
   "source": [
    "vital_cols = ['heartRate(bpm)', 'systolicBloodPressure(mmHg)', 'diastolicBloodPressure(mmHg)', 'bodyTemperature(F)', \n",
    "              'breathingFrequency(perminute)']"
   ]
  },
  {
   "cell_type": "code",
   "execution_count": 24,
   "id": "7b78d1e8-5a6d-4e8c-a371-c972f642788b",
   "metadata": {},
   "outputs": [],
   "source": [
    "df = df_records.copy()"
   ]
  },
  {
   "cell_type": "code",
   "execution_count": 25,
   "id": "a3e80f68-aedb-431c-a270-3e66ae8b9b46",
   "metadata": {},
   "outputs": [
    {
     "data": {
      "text/plain": [
       "(80696, 24)"
      ]
     },
     "execution_count": 25,
     "metadata": {},
     "output_type": "execute_result"
    }
   ],
   "source": [
    "df.shape"
   ]
  },
  {
   "cell_type": "code",
   "execution_count": 26,
   "id": "91825ad2-f234-4ff7-af00-99f8098e959e",
   "metadata": {},
   "outputs": [
    {
     "data": {
      "text/plain": [
       "0.01     51.0\n",
       "0.10     59.0\n",
       "0.20     69.0\n",
       "0.50    100.0\n",
       "0.80    129.0\n",
       "0.90    139.0\n",
       "0.99    148.0\n",
       "Name: heartRate(bpm), dtype: float64"
      ]
     },
     "execution_count": 26,
     "metadata": {},
     "output_type": "execute_result"
    }
   ],
   "source": [
    "df['heartRate(bpm)'].quantile([0.01, 0.1,0.2,0.5,0.8,0.9,0.99])"
   ]
  },
  {
   "cell_type": "code",
   "execution_count": 27,
   "id": "a0d28f46-5af7-4ebb-85a2-0f6f901a12fc",
   "metadata": {},
   "outputs": [
    {
     "data": {
      "text/plain": [
       "0.01    50.0\n",
       "0.10    53.0\n",
       "0.20    57.0\n",
       "0.50    69.0\n",
       "0.80    82.0\n",
       "0.90    85.0\n",
       "0.99    89.0\n",
       "Name: systolicBloodPressure(mmHg), dtype: float64"
      ]
     },
     "execution_count": 27,
     "metadata": {},
     "output_type": "execute_result"
    }
   ],
   "source": [
    "df['systolicBloodPressure(mmHg)'].quantile([0.01, 0.1,0.2,0.5,0.8,0.9,0.99])"
   ]
  },
  {
   "cell_type": "code",
   "execution_count": 28,
   "id": "c50ea673-a078-4f8b-8513-dd25e774d00b",
   "metadata": {},
   "outputs": [
    {
     "data": {
      "text/plain": [
       "0.01    100.0\n",
       "0.10    103.0\n",
       "0.20    107.0\n",
       "0.50    119.0\n",
       "0.80    132.0\n",
       "0.90    136.0\n",
       "0.99    139.0\n",
       "Name: diastolicBloodPressure(mmHg), dtype: float64"
      ]
     },
     "execution_count": 28,
     "metadata": {},
     "output_type": "execute_result"
    }
   ],
   "source": [
    "df['diastolicBloodPressure(mmHg)'].quantile([0.01, 0.1,0.2,0.5,0.8,0.9,0.99])"
   ]
  },
  {
   "cell_type": "code",
   "execution_count": 29,
   "id": "b89733c0-ec54-4767-96bf-1834355ddfb8",
   "metadata": {},
   "outputs": [
    {
     "data": {
      "text/plain": [
       "0.01     97.00\n",
       "0.10     97.17\n",
       "0.20     97.72\n",
       "0.50     99.02\n",
       "0.80    100.55\n",
       "0.90    101.37\n",
       "0.99    103.00\n",
       "Name: bodyTemperature(F), dtype: float64"
      ]
     },
     "execution_count": 29,
     "metadata": {},
     "output_type": "execute_result"
    }
   ],
   "source": [
    "df['bodyTemperature(F)'].quantile([0.01, 0.1,0.2,0.5,0.8,0.9,0.99])"
   ]
  },
  {
   "cell_type": "code",
   "execution_count": 30,
   "id": "4245b36d-673b-4394-b709-437c3fa1d6b2",
   "metadata": {},
   "outputs": [
    {
     "data": {
      "text/plain": [
       "0.01    10.0\n",
       "0.10    11.0\n",
       "0.20    12.0\n",
       "0.50    15.0\n",
       "0.80    19.0\n",
       "0.90    20.0\n",
       "0.99    21.0\n",
       "Name: breathingFrequency(perminute), dtype: float64"
      ]
     },
     "execution_count": 30,
     "metadata": {},
     "output_type": "execute_result"
    }
   ],
   "source": [
    "df['breathingFrequency(perminute)'].quantile([0.01, 0.1,0.2,0.5,0.8,0.9,0.99])"
   ]
  },
  {
   "cell_type": "code",
   "execution_count": 31,
   "id": "0b0fc34a-2d07-451e-9b43-9e31ea448e03",
   "metadata": {},
   "outputs": [],
   "source": [
    "vital_cols.append('healthState')"
   ]
  },
  {
   "cell_type": "code",
   "execution_count": 32,
   "id": "709b434b-1cd1-4178-820e-792a29cf87aa",
   "metadata": {},
   "outputs": [],
   "source": [
    "df['healthState'] = ''\n",
    "lower_bound = 0.05\n",
    "upper_bound = 0.95"
   ]
  },
  {
   "cell_type": "code",
   "execution_count": 33,
   "id": "f0ca8b8e-9c18-43dc-aec9-fa3fa827e36c",
   "metadata": {},
   "outputs": [
    {
     "data": {
      "text/plain": [
       "good    44330\n",
       "bad     36366\n",
       "Name: healthState, dtype: int64"
      ]
     },
     "execution_count": 33,
     "metadata": {},
     "output_type": "execute_result"
    }
   ],
   "source": [
    "df.loc[(df['heartRate(bpm)'] <= df['heartRate(bpm)'].quantile(lower_bound)) | (df['heartRate(bpm)'] >= df['heartRate(bpm)'].quantile(upper_bound))\n",
    "       | (df['systolicBloodPressure(mmHg)'] <= df['systolicBloodPressure(mmHg)'].quantile(lower_bound)) | (df['systolicBloodPressure(mmHg)'] >= df['systolicBloodPressure(mmHg)'].quantile(upper_bound))\n",
    "       | (df['diastolicBloodPressure(mmHg)'] <= df['diastolicBloodPressure(mmHg)'].quantile(lower_bound)) | (df['diastolicBloodPressure(mmHg)'] >= df['diastolicBloodPressure(mmHg)'].quantile(upper_bound))\n",
    "       | (df['bodyTemperature(F)'] < df['bodyTemperature(F)'].quantile(lower_bound)) | (df['bodyTemperature(F)'] > df['bodyTemperature(F)'].quantile(upper_bound))\n",
    "       | (df['breathingFrequency(perminute)'] <= df['breathingFrequency(perminute)'].quantile(lower_bound)) | (df['breathingFrequency(perminute)'] >= df['breathingFrequency(perminute)'].quantile(upper_bound))\n",
    "       , 'healthState'] = 'bad'\n",
    "\n",
    "df.loc[df['healthState'] == '', 'healthState'] = 'good'\n",
    "\n",
    "df['healthState'].value_counts()"
   ]
  },
  {
   "cell_type": "code",
   "execution_count": 35,
   "id": "77b0ec1a-e9f4-4dca-8f6a-bc2e77b9aff3",
   "metadata": {},
   "outputs": [
    {
     "data": {
      "text/html": [
       "<div>\n",
       "<style scoped>\n",
       "    .dataframe tbody tr th:only-of-type {\n",
       "        vertical-align: middle;\n",
       "    }\n",
       "\n",
       "    .dataframe tbody tr th {\n",
       "        vertical-align: top;\n",
       "    }\n",
       "\n",
       "    .dataframe thead th {\n",
       "        text-align: right;\n",
       "    }\n",
       "</style>\n",
       "<table border=\"1\" class=\"dataframe\">\n",
       "  <thead>\n",
       "    <tr style=\"text-align: right;\">\n",
       "      <th></th>\n",
       "      <th>heartRate(bpm)</th>\n",
       "      <th>systolicBloodPressure(mmHg)</th>\n",
       "      <th>diastolicBloodPressure(mmHg)</th>\n",
       "      <th>bodyTemperature(F)</th>\n",
       "      <th>breathingFrequency(perminute)</th>\n",
       "      <th>healthState</th>\n",
       "    </tr>\n",
       "  </thead>\n",
       "  <tbody>\n",
       "    <tr>\n",
       "      <th>0</th>\n",
       "      <td>97.0</td>\n",
       "      <td>86.0</td>\n",
       "      <td>103.0</td>\n",
       "      <td>99.63</td>\n",
       "      <td>13.0</td>\n",
       "      <td>good</td>\n",
       "    </tr>\n",
       "    <tr>\n",
       "      <th>1</th>\n",
       "      <td>63.0</td>\n",
       "      <td>89.0</td>\n",
       "      <td>100.0</td>\n",
       "      <td>100.01</td>\n",
       "      <td>20.0</td>\n",
       "      <td>bad</td>\n",
       "    </tr>\n",
       "    <tr>\n",
       "      <th>2</th>\n",
       "      <td>80.0</td>\n",
       "      <td>87.0</td>\n",
       "      <td>139.0</td>\n",
       "      <td>100.20</td>\n",
       "      <td>19.0</td>\n",
       "      <td>bad</td>\n",
       "    </tr>\n",
       "    <tr>\n",
       "      <th>3</th>\n",
       "      <td>124.0</td>\n",
       "      <td>52.0</td>\n",
       "      <td>119.0</td>\n",
       "      <td>100.24</td>\n",
       "      <td>18.0</td>\n",
       "      <td>good</td>\n",
       "    </tr>\n",
       "    <tr>\n",
       "      <th>4</th>\n",
       "      <td>148.0</td>\n",
       "      <td>70.0</td>\n",
       "      <td>114.0</td>\n",
       "      <td>100.38</td>\n",
       "      <td>17.0</td>\n",
       "      <td>bad</td>\n",
       "    </tr>\n",
       "  </tbody>\n",
       "</table>\n",
       "</div>"
      ],
      "text/plain": [
       "   heartRate(bpm)  systolicBloodPressure(mmHg)  diastolicBloodPressure(mmHg)  \\\n",
       "0            97.0                         86.0                         103.0   \n",
       "1            63.0                         89.0                         100.0   \n",
       "2            80.0                         87.0                         139.0   \n",
       "3           124.0                         52.0                         119.0   \n",
       "4           148.0                         70.0                         114.0   \n",
       "\n",
       "   bodyTemperature(F)  breathingFrequency(perminute) healthState  \n",
       "0               99.63                           13.0        good  \n",
       "1              100.01                           20.0         bad  \n",
       "2              100.20                           19.0         bad  \n",
       "3              100.24                           18.0        good  \n",
       "4              100.38                           17.0         bad  "
      ]
     },
     "execution_count": 35,
     "metadata": {},
     "output_type": "execute_result"
    }
   ],
   "source": [
    "df[vital_cols].head()"
   ]
  },
  {
   "cell_type": "code",
   "execution_count": 36,
   "id": "0c546171-97f1-4cb7-9f0a-1e1fedaff0e1",
   "metadata": {},
   "outputs": [
    {
     "data": {
      "text/plain": [
       "(55.0, 144.0)"
      ]
     },
     "execution_count": 36,
     "metadata": {},
     "output_type": "execute_result"
    }
   ],
   "source": [
    "df['heartRate(bpm)'].quantile(lower_bound), df['heartRate(bpm)'].quantile(upper_bound)"
   ]
  },
  {
   "cell_type": "code",
   "execution_count": 37,
   "id": "0586bade-4427-4876-bb74-5dffa81d9d21",
   "metadata": {},
   "outputs": [
    {
     "data": {
      "text/plain": [
       "(51.0, 87.0)"
      ]
     },
     "execution_count": 37,
     "metadata": {},
     "output_type": "execute_result"
    }
   ],
   "source": [
    "df['systolicBloodPressure(mmHg)'].quantile(lower_bound), df['systolicBloodPressure(mmHg)'].quantile(upper_bound)"
   ]
  },
  {
   "cell_type": "code",
   "execution_count": 38,
   "id": "29ab67fd-04a1-4d95-8d5e-0d71127726fc",
   "metadata": {},
   "outputs": [
    {
     "data": {
      "text/plain": [
       "(101.0, 138.0)"
      ]
     },
     "execution_count": 38,
     "metadata": {},
     "output_type": "execute_result"
    }
   ],
   "source": [
    "df['diastolicBloodPressure(mmHg)'].quantile(lower_bound), df['diastolicBloodPressure(mmHg)'].quantile(upper_bound)"
   ]
  },
  {
   "cell_type": "code",
   "execution_count": 39,
   "id": "0523af7e-90ce-40fb-aee8-09da58af3a5c",
   "metadata": {},
   "outputs": [
    {
     "data": {
      "text/plain": [
       "(97.0, 102.06)"
      ]
     },
     "execution_count": 39,
     "metadata": {},
     "output_type": "execute_result"
    }
   ],
   "source": [
    "df['bodyTemperature(F)'].quantile(lower_bound), df['bodyTemperature(F)'].quantile(upper_bound)"
   ]
  },
  {
   "cell_type": "code",
   "execution_count": 40,
   "id": "81a6cf15-87d9-411d-aad6-7d4512ce5114",
   "metadata": {},
   "outputs": [
    {
     "data": {
      "text/plain": [
       "(10.0, 21.0)"
      ]
     },
     "execution_count": 40,
     "metadata": {},
     "output_type": "execute_result"
    }
   ],
   "source": [
    "df['breathingFrequency(perminute)'].quantile(lower_bound), df['breathingFrequency(perminute)'].quantile(upper_bound)"
   ]
  },
  {
   "cell_type": "code",
   "execution_count": 41,
   "id": "c04fedbd-4396-4dac-bca1-0d6be3bdba5c",
   "metadata": {
    "tags": []
   },
   "outputs": [
    {
     "data": {
      "text/html": [
       "<div>\n",
       "<style scoped>\n",
       "    .dataframe tbody tr th:only-of-type {\n",
       "        vertical-align: middle;\n",
       "    }\n",
       "\n",
       "    .dataframe tbody tr th {\n",
       "        vertical-align: top;\n",
       "    }\n",
       "\n",
       "    .dataframe thead th {\n",
       "        text-align: right;\n",
       "    }\n",
       "</style>\n",
       "<table border=\"1\" class=\"dataframe\">\n",
       "  <thead>\n",
       "    <tr style=\"text-align: right;\">\n",
       "      <th></th>\n",
       "      <th>heartRate(bpm)</th>\n",
       "      <th>systolicBloodPressure(mmHg)</th>\n",
       "      <th>diastolicBloodPressure(mmHg)</th>\n",
       "      <th>bodyTemperature(F)</th>\n",
       "      <th>breathingFrequency(perminute)</th>\n",
       "      <th>healthState</th>\n",
       "    </tr>\n",
       "  </thead>\n",
       "  <tbody>\n",
       "    <tr>\n",
       "      <th>20663</th>\n",
       "      <td>82.0</td>\n",
       "      <td>75.0</td>\n",
       "      <td>138.0</td>\n",
       "      <td>102.07</td>\n",
       "      <td>21.0</td>\n",
       "      <td>bad</td>\n",
       "    </tr>\n",
       "    <tr>\n",
       "      <th>48922</th>\n",
       "      <td>146.0</td>\n",
       "      <td>87.0</td>\n",
       "      <td>128.0</td>\n",
       "      <td>98.89</td>\n",
       "      <td>14.0</td>\n",
       "      <td>bad</td>\n",
       "    </tr>\n",
       "    <tr>\n",
       "      <th>76224</th>\n",
       "      <td>102.0</td>\n",
       "      <td>53.0</td>\n",
       "      <td>123.0</td>\n",
       "      <td>99.93</td>\n",
       "      <td>21.0</td>\n",
       "      <td>bad</td>\n",
       "    </tr>\n",
       "    <tr>\n",
       "      <th>37193</th>\n",
       "      <td>59.0</td>\n",
       "      <td>63.0</td>\n",
       "      <td>114.0</td>\n",
       "      <td>101.41</td>\n",
       "      <td>10.0</td>\n",
       "      <td>bad</td>\n",
       "    </tr>\n",
       "    <tr>\n",
       "      <th>22256</th>\n",
       "      <td>56.0</td>\n",
       "      <td>88.0</td>\n",
       "      <td>135.0</td>\n",
       "      <td>100.35</td>\n",
       "      <td>21.0</td>\n",
       "      <td>bad</td>\n",
       "    </tr>\n",
       "    <tr>\n",
       "      <th>10095</th>\n",
       "      <td>85.0</td>\n",
       "      <td>77.0</td>\n",
       "      <td>110.0</td>\n",
       "      <td>102.98</td>\n",
       "      <td>13.0</td>\n",
       "      <td>bad</td>\n",
       "    </tr>\n",
       "    <tr>\n",
       "      <th>10492</th>\n",
       "      <td>132.0</td>\n",
       "      <td>50.0</td>\n",
       "      <td>104.0</td>\n",
       "      <td>97.00</td>\n",
       "      <td>12.0</td>\n",
       "      <td>bad</td>\n",
       "    </tr>\n",
       "    <tr>\n",
       "      <th>39497</th>\n",
       "      <td>148.0</td>\n",
       "      <td>71.0</td>\n",
       "      <td>125.0</td>\n",
       "      <td>97.44</td>\n",
       "      <td>14.0</td>\n",
       "      <td>bad</td>\n",
       "    </tr>\n",
       "  </tbody>\n",
       "</table>\n",
       "</div>"
      ],
      "text/plain": [
       "       heartRate(bpm)  systolicBloodPressure(mmHg)  \\\n",
       "20663            82.0                         75.0   \n",
       "48922           146.0                         87.0   \n",
       "76224           102.0                         53.0   \n",
       "37193            59.0                         63.0   \n",
       "22256            56.0                         88.0   \n",
       "10095            85.0                         77.0   \n",
       "10492           132.0                         50.0   \n",
       "39497           148.0                         71.0   \n",
       "\n",
       "       diastolicBloodPressure(mmHg)  bodyTemperature(F)  \\\n",
       "20663                         138.0              102.07   \n",
       "48922                         128.0               98.89   \n",
       "76224                         123.0               99.93   \n",
       "37193                         114.0              101.41   \n",
       "22256                         135.0              100.35   \n",
       "10095                         110.0              102.98   \n",
       "10492                         104.0               97.00   \n",
       "39497                         125.0               97.44   \n",
       "\n",
       "       breathingFrequency(perminute) healthState  \n",
       "20663                           21.0         bad  \n",
       "48922                           14.0         bad  \n",
       "76224                           21.0         bad  \n",
       "37193                           10.0         bad  \n",
       "22256                           21.0         bad  \n",
       "10095                           13.0         bad  \n",
       "10492                           12.0         bad  \n",
       "39497                           14.0         bad  "
      ]
     },
     "execution_count": 41,
     "metadata": {},
     "output_type": "execute_result"
    }
   ],
   "source": [
    "df[df['healthState'] == 'bad'][vital_cols].sample(8)"
   ]
  },
  {
   "cell_type": "code",
   "execution_count": 42,
   "id": "33ce280a-a490-4201-b53b-cff87859ef8b",
   "metadata": {},
   "outputs": [
    {
     "data": {
      "text/html": [
       "<div>\n",
       "<style scoped>\n",
       "    .dataframe tbody tr th:only-of-type {\n",
       "        vertical-align: middle;\n",
       "    }\n",
       "\n",
       "    .dataframe tbody tr th {\n",
       "        vertical-align: top;\n",
       "    }\n",
       "\n",
       "    .dataframe thead th {\n",
       "        text-align: right;\n",
       "    }\n",
       "</style>\n",
       "<table border=\"1\" class=\"dataframe\">\n",
       "  <thead>\n",
       "    <tr style=\"text-align: right;\">\n",
       "      <th></th>\n",
       "      <th>heartRate(bpm)</th>\n",
       "      <th>systolicBloodPressure(mmHg)</th>\n",
       "      <th>diastolicBloodPressure(mmHg)</th>\n",
       "      <th>bodyTemperature(F)</th>\n",
       "      <th>breathingFrequency(perminute)</th>\n",
       "      <th>healthState</th>\n",
       "    </tr>\n",
       "  </thead>\n",
       "  <tbody>\n",
       "    <tr>\n",
       "      <th>22733</th>\n",
       "      <td>136.0</td>\n",
       "      <td>84.0</td>\n",
       "      <td>112.0</td>\n",
       "      <td>99.31</td>\n",
       "      <td>14.0</td>\n",
       "      <td>good</td>\n",
       "    </tr>\n",
       "    <tr>\n",
       "      <th>66259</th>\n",
       "      <td>128.0</td>\n",
       "      <td>82.0</td>\n",
       "      <td>120.0</td>\n",
       "      <td>97.70</td>\n",
       "      <td>11.0</td>\n",
       "      <td>good</td>\n",
       "    </tr>\n",
       "    <tr>\n",
       "      <th>29057</th>\n",
       "      <td>140.0</td>\n",
       "      <td>81.0</td>\n",
       "      <td>105.0</td>\n",
       "      <td>99.08</td>\n",
       "      <td>12.0</td>\n",
       "      <td>good</td>\n",
       "    </tr>\n",
       "    <tr>\n",
       "      <th>198</th>\n",
       "      <td>137.0</td>\n",
       "      <td>81.0</td>\n",
       "      <td>118.0</td>\n",
       "      <td>100.07</td>\n",
       "      <td>13.0</td>\n",
       "      <td>good</td>\n",
       "    </tr>\n",
       "    <tr>\n",
       "      <th>52689</th>\n",
       "      <td>100.0</td>\n",
       "      <td>83.0</td>\n",
       "      <td>117.0</td>\n",
       "      <td>101.12</td>\n",
       "      <td>18.0</td>\n",
       "      <td>good</td>\n",
       "    </tr>\n",
       "    <tr>\n",
       "      <th>10577</th>\n",
       "      <td>102.0</td>\n",
       "      <td>62.0</td>\n",
       "      <td>107.0</td>\n",
       "      <td>99.24</td>\n",
       "      <td>13.0</td>\n",
       "      <td>good</td>\n",
       "    </tr>\n",
       "    <tr>\n",
       "      <th>46735</th>\n",
       "      <td>104.0</td>\n",
       "      <td>66.0</td>\n",
       "      <td>110.0</td>\n",
       "      <td>97.64</td>\n",
       "      <td>15.0</td>\n",
       "      <td>good</td>\n",
       "    </tr>\n",
       "    <tr>\n",
       "      <th>45175</th>\n",
       "      <td>83.0</td>\n",
       "      <td>86.0</td>\n",
       "      <td>115.0</td>\n",
       "      <td>99.37</td>\n",
       "      <td>13.0</td>\n",
       "      <td>good</td>\n",
       "    </tr>\n",
       "  </tbody>\n",
       "</table>\n",
       "</div>"
      ],
      "text/plain": [
       "       heartRate(bpm)  systolicBloodPressure(mmHg)  \\\n",
       "22733           136.0                         84.0   \n",
       "66259           128.0                         82.0   \n",
       "29057           140.0                         81.0   \n",
       "198             137.0                         81.0   \n",
       "52689           100.0                         83.0   \n",
       "10577           102.0                         62.0   \n",
       "46735           104.0                         66.0   \n",
       "45175            83.0                         86.0   \n",
       "\n",
       "       diastolicBloodPressure(mmHg)  bodyTemperature(F)  \\\n",
       "22733                         112.0               99.31   \n",
       "66259                         120.0               97.70   \n",
       "29057                         105.0               99.08   \n",
       "198                           118.0              100.07   \n",
       "52689                         117.0              101.12   \n",
       "10577                         107.0               99.24   \n",
       "46735                         110.0               97.64   \n",
       "45175                         115.0               99.37   \n",
       "\n",
       "       breathingFrequency(perminute) healthState  \n",
       "22733                           14.0        good  \n",
       "66259                           11.0        good  \n",
       "29057                           12.0        good  \n",
       "198                             13.0        good  \n",
       "52689                           18.0        good  \n",
       "10577                           13.0        good  \n",
       "46735                           15.0        good  \n",
       "45175                           13.0        good  "
      ]
     },
     "execution_count": 42,
     "metadata": {},
     "output_type": "execute_result"
    }
   ],
   "source": [
    "df[df['healthState'] == 'good'][vital_cols].sample(8)"
   ]
  },
  {
   "cell_type": "code",
   "execution_count": 43,
   "id": "05033f09-6f76-4241-afad-f36277adfdf1",
   "metadata": {},
   "outputs": [],
   "source": [
    "df.to_csv('time_series_dump_v1.csv')"
   ]
  },
  {
   "cell_type": "code",
   "execution_count": null,
   "id": "1f6ecd1f-e231-42a7-a764-92d5768fd4f4",
   "metadata": {},
   "outputs": [],
   "source": []
  },
  {
   "cell_type": "code",
   "execution_count": null,
   "id": "9427405c-0fa0-419a-8963-25b03cbf8568",
   "metadata": {},
   "outputs": [],
   "source": []
  },
  {
   "cell_type": "code",
   "execution_count": null,
   "id": "e26ddd68-4ea0-4c51-996a-50b11851c60e",
   "metadata": {},
   "outputs": [],
   "source": [
    "##### For reference #####"
   ]
  },
  {
   "cell_type": "code",
   "execution_count": null,
   "id": "867c538c-6eff-4d4b-8163-296df0abb00b",
   "metadata": {},
   "outputs": [],
   "source": [
    "def generate_records(sample_size):\n",
    "    event_data = {}\n",
    "\n",
    "    for idx in range(sample_size):\n",
    "        event = {}\n",
    "\n",
    "        event_id = str(uuid.uuid4())\n",
    "        event['eventId'] = event_id\n",
    "\n",
    "        start_date = datetime(2022, 8, 1)\n",
    "        end_date = datetime(2022, 12, 31)\n",
    "        event['eventTimestamp'] = fetch_random_date(start_date, end_date)\n",
    "\n",
    "        random_no = secrets.randbelow(2)\n",
    "        source = 'app' if random_no == 1 else 'manual'\n",
    "        event['dataSource'] = source\n",
    "\n",
    "        # TODO: FIX\n",
    "        random_no = secrets.randbelow(2)\n",
    "        state = 'good' if random_no == 1 else 'bad'\n",
    "        event['healthState'] = state\n",
    "\n",
    "        generalHealthStats = {}\n",
    "\n",
    "        stepCount = secrets.randbelow(30000)\n",
    "        generalHealthStats['stepCount(cumulativeforday)'] = stepCount\n",
    "\n",
    "        bloodOxygenAvg = 90 + secrets.randbelow(10)\n",
    "        generalHealthStats['bloodOxygenAvg(mmHg)'] = bloodOxygenAvg\n",
    "\n",
    "        stress = secrets.randbelow(5)\n",
    "        generalHealthStats['stress(0to5)'] = stress\n",
    "\n",
    "        sleepHours = 4 + secrets.randbelow(4)\n",
    "        generalHealthStats['sleepHours'] = sleepHours\n",
    "\n",
    "        REMsleepHours = secrets.randbelow(4)\n",
    "        generalHealthStats['REMsleepHours'] = REMsleepHours\n",
    "\n",
    "        caloriesBurnt = 1800 + secrets.randbelow(600)\n",
    "        generalHealthStats['caloriesBurnt(cumulativeforday)'] = caloriesBurnt\n",
    "\n",
    "        event['generalHealthStats'] = generalHealthStats\n",
    "\n",
    "        user = {}\n",
    "\n",
    "        user['user_id'] = str(uuid.uuid4())\n",
    "\n",
    "        name = fake.name()\n",
    "        user['firstname'] = name.split(' ')[0]\n",
    "        user['lastname'] = name.split(' ')[1]\n",
    "\n",
    "        random_no = secrets.randbelow(2)\n",
    "        gender = 'male' if random_no == 1 else 'female'\n",
    "        user['gender'] = gender\n",
    "\n",
    "        age = secrets.randbelow(60)\n",
    "        user['age'] = age\n",
    "\n",
    "        if age < 5:\n",
    "            weight = secrets.randbelow(10)\n",
    "            height = 10 + secrets.randbelow(40)\n",
    "        elif 5 <= age <= 15:\n",
    "            weight = 20 + secrets.randbelow(20)\n",
    "            height = 50 + secrets.randbelow(80)\n",
    "        elif age > 15:\n",
    "            weight = 40 + secrets.randbelow(50)\n",
    "            height = 140 + secrets.randbelow(60)\n",
    "\n",
    "        user['weight(kg)'] = weight\n",
    "        user['height(cm)'] = height\n",
    "\n",
    "        event['user'] = user\n",
    "\n",
    "        vitals = {}\n",
    "\n",
    "        heartRate = 50 + secrets.randbelow(50)\n",
    "        vitals['heartRate(bpm)'] = heartRate\n",
    "\n",
    "        systolicBloodPressure = 50 + secrets.randbelow(40)\n",
    "        vitals['systolicBloodPressure(mmHg)'] = systolicBloodPressure\n",
    "\n",
    "        diastolicBloodPressure = 100 + secrets.randbelow(40)\n",
    "        vitals['diastolicBloodPressure(mmHg)'] = diastolicBloodPressure\n",
    "\n",
    "        bodyTemperature = 98 + secrets.randbelow(3)\n",
    "        vitals['bodyTemperature(F)'] = bodyTemperature\n",
    "\n",
    "        breathingFrequency = 10 + secrets.randbelow(12)\n",
    "        vitals['breathingFrequency(perminute)'] = breathingFrequency\n",
    "\n",
    "        event['vitals'] = vitals\n",
    "\n",
    "        event_data[f'{event_id}'] = event\n",
    "    return event_data"
   ]
  },
  {
   "cell_type": "code",
   "execution_count": 5,
   "id": "508f7491-fe96-4293-a287-995fceb23581",
   "metadata": {},
   "outputs": [],
   "source": [
    "records = generate_records(sample_size=10_000)\n",
    "df = pd.DataFrame(records).T.reset_index(drop=True)\n",
    "df = pd.concat([df, \n",
    "                df['generalHealthStats'].apply(lambda x: pd.Series(x)), \n",
    "                df['user'].apply(lambda x: pd.Series(x)), \n",
    "                df['vitals'].apply(lambda x: pd.Series(x))\n",
    "               ], axis=1)\n"
   ]
  },
  {
   "cell_type": "code",
   "execution_count": 19,
   "id": "5c513c38-c5bc-47db-8dcc-3a36cf3dd286",
   "metadata": {},
   "outputs": [
    {
     "data": {
      "text/html": [
       "<div>\n",
       "<style scoped>\n",
       "    .dataframe tbody tr th:only-of-type {\n",
       "        vertical-align: middle;\n",
       "    }\n",
       "\n",
       "    .dataframe tbody tr th {\n",
       "        vertical-align: top;\n",
       "    }\n",
       "\n",
       "    .dataframe thead th {\n",
       "        text-align: right;\n",
       "    }\n",
       "</style>\n",
       "<table border=\"1\" class=\"dataframe\">\n",
       "  <thead>\n",
       "    <tr style=\"text-align: right;\">\n",
       "      <th></th>\n",
       "      <th>eventId</th>\n",
       "      <th>eventTimestamp</th>\n",
       "      <th>dataSource</th>\n",
       "      <th>healthState</th>\n",
       "      <th>generalHealthStats</th>\n",
       "      <th>user</th>\n",
       "      <th>vitals</th>\n",
       "      <th>stepCount(cumulativeforday)</th>\n",
       "      <th>bloodOxygenAvg(mmHg)</th>\n",
       "      <th>stress(0to5)</th>\n",
       "      <th>...</th>\n",
       "      <th>lastname</th>\n",
       "      <th>gender</th>\n",
       "      <th>age</th>\n",
       "      <th>weight(kg)</th>\n",
       "      <th>height(cm)</th>\n",
       "      <th>heartRate(bpm)</th>\n",
       "      <th>systolicBloodPressure(mmHg)</th>\n",
       "      <th>diastolicBloodPressure(mmHg)</th>\n",
       "      <th>bodyTemperature(F)</th>\n",
       "      <th>breathingFrequency(perminute)</th>\n",
       "    </tr>\n",
       "  </thead>\n",
       "  <tbody>\n",
       "    <tr>\n",
       "      <th>0</th>\n",
       "      <td>04d0f5dc-8a4b-4e59-93f5-58177fa58609</td>\n",
       "      <td>2022-09-14 00:31:33</td>\n",
       "      <td>app</td>\n",
       "      <td>bad</td>\n",
       "      <td>{'stepCount(cumulativeforday)': 23102, 'bloodO...</td>\n",
       "      <td>{'user_id': '4dea0bcb-f981-4e77-82b5-c63af0cc0...</td>\n",
       "      <td>{'heartRate(bpm)': 69, 'systolicBloodPressure(...</td>\n",
       "      <td>23102</td>\n",
       "      <td>98</td>\n",
       "      <td>3</td>\n",
       "      <td>...</td>\n",
       "      <td>Martinez</td>\n",
       "      <td>female</td>\n",
       "      <td>48</td>\n",
       "      <td>76</td>\n",
       "      <td>164</td>\n",
       "      <td>69</td>\n",
       "      <td>61</td>\n",
       "      <td>121</td>\n",
       "      <td>99</td>\n",
       "      <td>12</td>\n",
       "    </tr>\n",
       "    <tr>\n",
       "      <th>1</th>\n",
       "      <td>4eca266c-3465-4e13-a9cd-23c0d466e7ee</td>\n",
       "      <td>2022-10-11 22:14:39</td>\n",
       "      <td>app</td>\n",
       "      <td>good</td>\n",
       "      <td>{'stepCount(cumulativeforday)': 27841, 'bloodO...</td>\n",
       "      <td>{'user_id': 'cebe2399-1ade-47ce-9bf4-f828d118b...</td>\n",
       "      <td>{'heartRate(bpm)': 79, 'systolicBloodPressure(...</td>\n",
       "      <td>27841</td>\n",
       "      <td>98</td>\n",
       "      <td>0</td>\n",
       "      <td>...</td>\n",
       "      <td>Wright</td>\n",
       "      <td>male</td>\n",
       "      <td>51</td>\n",
       "      <td>58</td>\n",
       "      <td>167</td>\n",
       "      <td>79</td>\n",
       "      <td>50</td>\n",
       "      <td>136</td>\n",
       "      <td>98</td>\n",
       "      <td>16</td>\n",
       "    </tr>\n",
       "    <tr>\n",
       "      <th>2</th>\n",
       "      <td>2a30f3f8-3ae6-4f35-a520-13ae3840bd0b</td>\n",
       "      <td>2022-10-12 21:20:54</td>\n",
       "      <td>manual</td>\n",
       "      <td>bad</td>\n",
       "      <td>{'stepCount(cumulativeforday)': 29924, 'bloodO...</td>\n",
       "      <td>{'user_id': '7cfbb059-2406-4b26-809c-bbc0bebf5...</td>\n",
       "      <td>{'heartRate(bpm)': 53, 'systolicBloodPressure(...</td>\n",
       "      <td>29924</td>\n",
       "      <td>90</td>\n",
       "      <td>1</td>\n",
       "      <td>...</td>\n",
       "      <td>Maria</td>\n",
       "      <td>female</td>\n",
       "      <td>47</td>\n",
       "      <td>82</td>\n",
       "      <td>191</td>\n",
       "      <td>53</td>\n",
       "      <td>61</td>\n",
       "      <td>100</td>\n",
       "      <td>100</td>\n",
       "      <td>21</td>\n",
       "    </tr>\n",
       "    <tr>\n",
       "      <th>3</th>\n",
       "      <td>23af65d6-a114-4268-bf6e-52f49622b786</td>\n",
       "      <td>2022-08-25 12:44:40</td>\n",
       "      <td>app</td>\n",
       "      <td>bad</td>\n",
       "      <td>{'stepCount(cumulativeforday)': 16763, 'bloodO...</td>\n",
       "      <td>{'user_id': '85918ea9-606e-4b70-9b6a-fd8e85864...</td>\n",
       "      <td>{'heartRate(bpm)': 61, 'systolicBloodPressure(...</td>\n",
       "      <td>16763</td>\n",
       "      <td>97</td>\n",
       "      <td>3</td>\n",
       "      <td>...</td>\n",
       "      <td>Rivas</td>\n",
       "      <td>male</td>\n",
       "      <td>12</td>\n",
       "      <td>33</td>\n",
       "      <td>75</td>\n",
       "      <td>61</td>\n",
       "      <td>52</td>\n",
       "      <td>134</td>\n",
       "      <td>100</td>\n",
       "      <td>14</td>\n",
       "    </tr>\n",
       "    <tr>\n",
       "      <th>4</th>\n",
       "      <td>900ee436-2dd7-4fc5-8654-1b7c918dffbb</td>\n",
       "      <td>2022-09-07 11:59:19</td>\n",
       "      <td>app</td>\n",
       "      <td>good</td>\n",
       "      <td>{'stepCount(cumulativeforday)': 18598, 'bloodO...</td>\n",
       "      <td>{'user_id': 'b901fe55-4087-41d9-b3f3-fc976b0e4...</td>\n",
       "      <td>{'heartRate(bpm)': 71, 'systolicBloodPressure(...</td>\n",
       "      <td>18598</td>\n",
       "      <td>98</td>\n",
       "      <td>4</td>\n",
       "      <td>...</td>\n",
       "      <td>Adams</td>\n",
       "      <td>female</td>\n",
       "      <td>51</td>\n",
       "      <td>76</td>\n",
       "      <td>198</td>\n",
       "      <td>71</td>\n",
       "      <td>65</td>\n",
       "      <td>116</td>\n",
       "      <td>99</td>\n",
       "      <td>16</td>\n",
       "    </tr>\n",
       "  </tbody>\n",
       "</table>\n",
       "<p>5 rows × 25 columns</p>\n",
       "</div>"
      ],
      "text/plain": [
       "                                eventId      eventTimestamp dataSource  \\\n",
       "0  04d0f5dc-8a4b-4e59-93f5-58177fa58609 2022-09-14 00:31:33        app   \n",
       "1  4eca266c-3465-4e13-a9cd-23c0d466e7ee 2022-10-11 22:14:39        app   \n",
       "2  2a30f3f8-3ae6-4f35-a520-13ae3840bd0b 2022-10-12 21:20:54     manual   \n",
       "3  23af65d6-a114-4268-bf6e-52f49622b786 2022-08-25 12:44:40        app   \n",
       "4  900ee436-2dd7-4fc5-8654-1b7c918dffbb 2022-09-07 11:59:19        app   \n",
       "\n",
       "  healthState                                 generalHealthStats  \\\n",
       "0         bad  {'stepCount(cumulativeforday)': 23102, 'bloodO...   \n",
       "1        good  {'stepCount(cumulativeforday)': 27841, 'bloodO...   \n",
       "2         bad  {'stepCount(cumulativeforday)': 29924, 'bloodO...   \n",
       "3         bad  {'stepCount(cumulativeforday)': 16763, 'bloodO...   \n",
       "4        good  {'stepCount(cumulativeforday)': 18598, 'bloodO...   \n",
       "\n",
       "                                                user  \\\n",
       "0  {'user_id': '4dea0bcb-f981-4e77-82b5-c63af0cc0...   \n",
       "1  {'user_id': 'cebe2399-1ade-47ce-9bf4-f828d118b...   \n",
       "2  {'user_id': '7cfbb059-2406-4b26-809c-bbc0bebf5...   \n",
       "3  {'user_id': '85918ea9-606e-4b70-9b6a-fd8e85864...   \n",
       "4  {'user_id': 'b901fe55-4087-41d9-b3f3-fc976b0e4...   \n",
       "\n",
       "                                              vitals  \\\n",
       "0  {'heartRate(bpm)': 69, 'systolicBloodPressure(...   \n",
       "1  {'heartRate(bpm)': 79, 'systolicBloodPressure(...   \n",
       "2  {'heartRate(bpm)': 53, 'systolicBloodPressure(...   \n",
       "3  {'heartRate(bpm)': 61, 'systolicBloodPressure(...   \n",
       "4  {'heartRate(bpm)': 71, 'systolicBloodPressure(...   \n",
       "\n",
       "   stepCount(cumulativeforday)  bloodOxygenAvg(mmHg)  stress(0to5)  ...  \\\n",
       "0                        23102                    98             3  ...   \n",
       "1                        27841                    98             0  ...   \n",
       "2                        29924                    90             1  ...   \n",
       "3                        16763                    97             3  ...   \n",
       "4                        18598                    98             4  ...   \n",
       "\n",
       "   lastname  gender  age weight(kg) height(cm) heartRate(bpm)  \\\n",
       "0  Martinez  female   48         76        164             69   \n",
       "1    Wright    male   51         58        167             79   \n",
       "2     Maria  female   47         82        191             53   \n",
       "3     Rivas    male   12         33         75             61   \n",
       "4     Adams  female   51         76        198             71   \n",
       "\n",
       "  systolicBloodPressure(mmHg)  diastolicBloodPressure(mmHg)  \\\n",
       "0                          61                           121   \n",
       "1                          50                           136   \n",
       "2                          61                           100   \n",
       "3                          52                           134   \n",
       "4                          65                           116   \n",
       "\n",
       "   bodyTemperature(F)  breathingFrequency(perminute)  \n",
       "0                  99                             12  \n",
       "1                  98                             16  \n",
       "2                 100                             21  \n",
       "3                 100                             14  \n",
       "4                  99                             16  \n",
       "\n",
       "[5 rows x 25 columns]"
      ]
     },
     "execution_count": 19,
     "metadata": {},
     "output_type": "execute_result"
    }
   ],
   "source": [
    "df.head()"
   ]
  },
  {
   "cell_type": "code",
   "execution_count": 7,
   "id": "24600984-df9b-4451-97ee-22d5868d734f",
   "metadata": {},
   "outputs": [],
   "source": [
    "df.to_csv('data_dump_temp.csv')"
   ]
  },
  {
   "cell_type": "code",
   "execution_count": 49,
   "id": "4ff600e4-8334-4bc8-98e5-44b05a4849d7",
   "metadata": {},
   "outputs": [
    {
     "data": {
      "text/plain": [
       "Index(['eventId', 'eventTimestamp', 'dataSource', 'healthState',\n",
       "       'generalHealthStats', 'user', 'vitals', 'stepCount(cumulativeforday)',\n",
       "       'bloodOxygenAvg(mmHg)', 'stress(0to5)', 'sleepHours', 'REMsleepHours',\n",
       "       'caloriesBurnt(cumulativeforday)', 'user_id', 'firstname', 'lastname',\n",
       "       'gender', 'age', 'weight(kg)', 'height(cm)', 'heartRate(bpm)',\n",
       "       'systolicBloodPressure(mmHg)', 'diastolicBloodPressure(mmHg)',\n",
       "       'bodyTemperature(F)', 'breathingFrequency(perminute)'],\n",
       "      dtype='object')"
      ]
     },
     "execution_count": 49,
     "metadata": {},
     "output_type": "execute_result"
    }
   ],
   "source": [
    "df.columns"
   ]
  },
  {
   "cell_type": "code",
   "execution_count": 20,
   "id": "315be62b-a8b2-49e3-80bc-42f134b4a8d0",
   "metadata": {},
   "outputs": [
    {
     "name": "stdout",
     "output_type": "stream",
     "text": [
      "<class 'pandas.core.frame.DataFrame'>\n",
      "RangeIndex: 10000 entries, 0 to 9999\n",
      "Data columns (total 25 columns):\n",
      " #   Column                           Non-Null Count  Dtype         \n",
      "---  ------                           --------------  -----         \n",
      " 0   eventId                          10000 non-null  object        \n",
      " 1   eventTimestamp                   10000 non-null  datetime64[ns]\n",
      " 2   dataSource                       10000 non-null  object        \n",
      " 3   healthState                      10000 non-null  object        \n",
      " 4   generalHealthStats               10000 non-null  object        \n",
      " 5   user                             10000 non-null  object        \n",
      " 6   vitals                           10000 non-null  object        \n",
      " 7   stepCount(cumulativeforday)      10000 non-null  int64         \n",
      " 8   bloodOxygenAvg(mmHg)             10000 non-null  int64         \n",
      " 9   stress(0to5)                     10000 non-null  int64         \n",
      " 10  sleepHours                       10000 non-null  int64         \n",
      " 11  REMsleepHours                    10000 non-null  int64         \n",
      " 12  caloriesBurnt(cumulativeforday)  10000 non-null  int64         \n",
      " 13  user_id                          10000 non-null  object        \n",
      " 14  firstname                        10000 non-null  object        \n",
      " 15  lastname                         10000 non-null  object        \n",
      " 16  gender                           10000 non-null  object        \n",
      " 17  age                              10000 non-null  int64         \n",
      " 18  weight(kg)                       10000 non-null  int64         \n",
      " 19  height(cm)                       10000 non-null  int64         \n",
      " 20  heartRate(bpm)                   10000 non-null  int64         \n",
      " 21  systolicBloodPressure(mmHg)      10000 non-null  int64         \n",
      " 22  diastolicBloodPressure(mmHg)     10000 non-null  int64         \n",
      " 23  bodyTemperature(F)               10000 non-null  int64         \n",
      " 24  breathingFrequency(perminute)    10000 non-null  int64         \n",
      "dtypes: datetime64[ns](1), int64(14), object(10)\n",
      "memory usage: 1.9+ MB\n"
     ]
    }
   ],
   "source": [
    "df.info()"
   ]
  },
  {
   "cell_type": "code",
   "execution_count": null,
   "id": "726c5395-ca7b-437a-b48b-c17f9360bb87",
   "metadata": {},
   "outputs": [],
   "source": [
    "eventId, eventTimestamp, dataSource, healthState,\n",
    "generalHealthStats, user, vitals\n",
    "\n",
    "heartRate(bpm), systolicBloodPressure(mmHg), diastolicBloodPressure(mmHg), bodyTemperature(F), breathingFrequency(perminute)"
   ]
  },
  {
   "cell_type": "code",
   "execution_count": 48,
   "id": "6bcb7a4d-f857-4cf6-888c-d072854f980b",
   "metadata": {},
   "outputs": [
    {
     "data": {
      "text/html": [
       "<div>\n",
       "<style scoped>\n",
       "    .dataframe tbody tr th:only-of-type {\n",
       "        vertical-align: middle;\n",
       "    }\n",
       "\n",
       "    .dataframe tbody tr th {\n",
       "        vertical-align: top;\n",
       "    }\n",
       "\n",
       "    .dataframe thead th {\n",
       "        text-align: right;\n",
       "    }\n",
       "</style>\n",
       "<table border=\"1\" class=\"dataframe\">\n",
       "  <thead>\n",
       "    <tr style=\"text-align: right;\">\n",
       "      <th></th>\n",
       "      <th>age</th>\n",
       "      <th>weight(kg)</th>\n",
       "      <th>height(cm)</th>\n",
       "      <th>heartRate(bpm)</th>\n",
       "      <th>systolicBloodPressure(mmHg)</th>\n",
       "      <th>diastolicBloodPressure(mmHg)</th>\n",
       "      <th>bodyTemperature(F)</th>\n",
       "      <th>breathingFrequency(perminute)</th>\n",
       "    </tr>\n",
       "  </thead>\n",
       "  <tbody>\n",
       "    <tr>\n",
       "      <th>count</th>\n",
       "      <td>10000.000000</td>\n",
       "      <td>10000.000000</td>\n",
       "      <td>10000.000000</td>\n",
       "      <td>10000.00000</td>\n",
       "      <td>10000.00000</td>\n",
       "      <td>10000.000000</td>\n",
       "      <td>10000.000000</td>\n",
       "      <td>10000.000000</td>\n",
       "    </tr>\n",
       "    <tr>\n",
       "      <th>mean</th>\n",
       "      <td>29.694300</td>\n",
       "      <td>53.075000</td>\n",
       "      <td>143.163000</td>\n",
       "      <td>74.38670</td>\n",
       "      <td>69.68800</td>\n",
       "      <td>119.487000</td>\n",
       "      <td>99.005500</td>\n",
       "      <td>15.500700</td>\n",
       "    </tr>\n",
       "    <tr>\n",
       "      <th>std</th>\n",
       "      <td>17.410496</td>\n",
       "      <td>23.425543</td>\n",
       "      <td>49.062105</td>\n",
       "      <td>14.31266</td>\n",
       "      <td>11.55293</td>\n",
       "      <td>11.555924</td>\n",
       "      <td>0.819352</td>\n",
       "      <td>3.455487</td>\n",
       "    </tr>\n",
       "    <tr>\n",
       "      <th>min</th>\n",
       "      <td>0.000000</td>\n",
       "      <td>0.000000</td>\n",
       "      <td>10.000000</td>\n",
       "      <td>50.00000</td>\n",
       "      <td>50.00000</td>\n",
       "      <td>100.000000</td>\n",
       "      <td>98.000000</td>\n",
       "      <td>10.000000</td>\n",
       "    </tr>\n",
       "    <tr>\n",
       "      <th>25%</th>\n",
       "      <td>14.000000</td>\n",
       "      <td>38.000000</td>\n",
       "      <td>122.000000</td>\n",
       "      <td>62.00000</td>\n",
       "      <td>60.00000</td>\n",
       "      <td>109.000000</td>\n",
       "      <td>98.000000</td>\n",
       "      <td>12.000000</td>\n",
       "    </tr>\n",
       "    <tr>\n",
       "      <th>50%</th>\n",
       "      <td>30.000000</td>\n",
       "      <td>55.000000</td>\n",
       "      <td>158.000000</td>\n",
       "      <td>74.00000</td>\n",
       "      <td>70.00000</td>\n",
       "      <td>120.000000</td>\n",
       "      <td>99.000000</td>\n",
       "      <td>15.000000</td>\n",
       "    </tr>\n",
       "    <tr>\n",
       "      <th>75%</th>\n",
       "      <td>45.000000</td>\n",
       "      <td>73.000000</td>\n",
       "      <td>179.000000</td>\n",
       "      <td>87.00000</td>\n",
       "      <td>80.00000</td>\n",
       "      <td>129.000000</td>\n",
       "      <td>100.000000</td>\n",
       "      <td>18.000000</td>\n",
       "    </tr>\n",
       "    <tr>\n",
       "      <th>max</th>\n",
       "      <td>59.000000</td>\n",
       "      <td>89.000000</td>\n",
       "      <td>199.000000</td>\n",
       "      <td>99.00000</td>\n",
       "      <td>89.00000</td>\n",
       "      <td>139.000000</td>\n",
       "      <td>100.000000</td>\n",
       "      <td>21.000000</td>\n",
       "    </tr>\n",
       "  </tbody>\n",
       "</table>\n",
       "</div>"
      ],
      "text/plain": [
       "                age    weight(kg)    height(cm)  heartRate(bpm)  \\\n",
       "count  10000.000000  10000.000000  10000.000000     10000.00000   \n",
       "mean      29.694300     53.075000    143.163000        74.38670   \n",
       "std       17.410496     23.425543     49.062105        14.31266   \n",
       "min        0.000000      0.000000     10.000000        50.00000   \n",
       "25%       14.000000     38.000000    122.000000        62.00000   \n",
       "50%       30.000000     55.000000    158.000000        74.00000   \n",
       "75%       45.000000     73.000000    179.000000        87.00000   \n",
       "max       59.000000     89.000000    199.000000        99.00000   \n",
       "\n",
       "       systolicBloodPressure(mmHg)  diastolicBloodPressure(mmHg)  \\\n",
       "count                  10000.00000                  10000.000000   \n",
       "mean                      69.68800                    119.487000   \n",
       "std                       11.55293                     11.555924   \n",
       "min                       50.00000                    100.000000   \n",
       "25%                       60.00000                    109.000000   \n",
       "50%                       70.00000                    120.000000   \n",
       "75%                       80.00000                    129.000000   \n",
       "max                       89.00000                    139.000000   \n",
       "\n",
       "       bodyTemperature(F)  breathingFrequency(perminute)  \n",
       "count        10000.000000                   10000.000000  \n",
       "mean            99.005500                      15.500700  \n",
       "std              0.819352                       3.455487  \n",
       "min             98.000000                      10.000000  \n",
       "25%             98.000000                      12.000000  \n",
       "50%             99.000000                      15.000000  \n",
       "75%            100.000000                      18.000000  \n",
       "max            100.000000                      21.000000  "
      ]
     },
     "execution_count": 48,
     "metadata": {},
     "output_type": "execute_result"
    }
   ],
   "source": [
    "df[cols[6:]].describe()"
   ]
  },
  {
   "cell_type": "code",
   "execution_count": 36,
   "id": "68d52d5b-4e09-41ee-88f1-574625c18986",
   "metadata": {},
   "outputs": [],
   "source": [
    "import matplotlib.pyplot as plt\n",
    "import seaborn as sns"
   ]
  },
  {
   "cell_type": "code",
   "execution_count": 35,
   "id": "7388f2d1-e755-414e-adeb-92d2ae6fac08",
   "metadata": {},
   "outputs": [
    {
     "name": "stdout",
     "output_type": "stream",
     "text": [
      "Collecting seaborn\n",
      "  Using cached seaborn-0.12.2-py3-none-any.whl (293 kB)\n",
      "Requirement already satisfied: numpy!=1.24.0,>=1.17 in /usr/local/lib/python3.9/site-packages (from seaborn) (1.24.1)\n",
      "Requirement already satisfied: pandas>=0.25 in /usr/local/lib/python3.9/site-packages (from seaborn) (1.5.2)\n",
      "Requirement already satisfied: matplotlib!=3.6.1,>=3.1 in /usr/local/lib/python3.9/site-packages (from seaborn) (3.6.2)\n",
      "Requirement already satisfied: packaging>=20.0 in /usr/local/lib/python3.9/site-packages (from matplotlib!=3.6.1,>=3.1->seaborn) (21.3)\n",
      "Requirement already satisfied: fonttools>=4.22.0 in /usr/local/lib/python3.9/site-packages (from matplotlib!=3.6.1,>=3.1->seaborn) (4.38.0)\n",
      "Requirement already satisfied: contourpy>=1.0.1 in /usr/local/lib/python3.9/site-packages (from matplotlib!=3.6.1,>=3.1->seaborn) (1.0.6)\n",
      "Requirement already satisfied: cycler>=0.10 in /usr/local/lib/python3.9/site-packages (from matplotlib!=3.6.1,>=3.1->seaborn) (0.11.0)\n",
      "Requirement already satisfied: pyparsing>=2.2.1 in /usr/local/lib/python3.9/site-packages (from matplotlib!=3.6.1,>=3.1->seaborn) (3.0.9)\n",
      "Requirement already satisfied: python-dateutil>=2.7 in /usr/local/lib/python3.9/site-packages (from matplotlib!=3.6.1,>=3.1->seaborn) (2.8.2)\n",
      "Requirement already satisfied: kiwisolver>=1.0.1 in /usr/local/lib/python3.9/site-packages (from matplotlib!=3.6.1,>=3.1->seaborn) (1.4.4)\n",
      "Requirement already satisfied: pillow>=6.2.0 in /usr/local/lib/python3.9/site-packages (from matplotlib!=3.6.1,>=3.1->seaborn) (9.3.0)\n",
      "Requirement already satisfied: pytz>=2020.1 in /usr/local/lib/python3.9/site-packages (from pandas>=0.25->seaborn) (2022.7)\n",
      "Requirement already satisfied: six>=1.5 in /usr/local/lib/python3.9/site-packages (from python-dateutil>=2.7->matplotlib!=3.6.1,>=3.1->seaborn) (1.16.0)\n",
      "Installing collected packages: seaborn\n",
      "Successfully installed seaborn-0.12.2\n",
      "\u001b[33mWARNING: Running pip as the 'root' user can result in broken permissions and conflicting behaviour with the system package manager. It is recommended to use a virtual environment instead: https://pip.pypa.io/warnings/venv\u001b[0m\u001b[33m\n",
      "\u001b[0m"
     ]
    }
   ],
   "source": [
    "!pip install seaborn"
   ]
  },
  {
   "cell_type": "code",
   "execution_count": 37,
   "id": "0650bc9e-bbd8-4b87-bc16-40a7a098d0a0",
   "metadata": {},
   "outputs": [],
   "source": [
    "cols = ['stepCount(cumulativeforday)', 'bloodOxygenAvg(mmHg)', 'stress(0to5)', 'sleepHours', 'REMsleepHours', \n",
    "        'caloriesBurnt(cumulativeforday)', 'age', 'weight(kg)', 'height(cm)', 'heartRate(bpm)', 'systolicBloodPressure(mmHg)', \n",
    "        'diastolicBloodPressure(mmHg)', 'bodyTemperature(F)', 'breathingFrequency(perminute)']"
   ]
  },
  {
   "cell_type": "code",
   "execution_count": null,
   "id": "d4edaf89-87a2-4d61-8ebe-04478cd65903",
   "metadata": {},
   "outputs": [],
   "source": []
  },
  {
   "cell_type": "code",
   "execution_count": 25,
   "id": "8da70560-4aaa-472e-ace8-e987e99455f2",
   "metadata": {},
   "outputs": [
    {
     "data": {
      "image/png": "[encoded data removed]",
      "text/plain": [
       "<Figure size 640x480 with 1 Axes>"
      ]
     },
     "metadata": {},
     "output_type": "display_data"
    }
   ],
   "source": [
    "# x = np.random.poisson(lam =3, size=100)\n",
    "# y = np.random.choice([\"S{}\".format(i+1) for i in range(len(cols))], size=len(x))\n",
    "# df = pd.DataFrame({\"Scenario\":y, \"LMP\":x})\n",
    "\n",
    "fig, axes = plt.subplots()\n",
    "\n",
    "axes.violinplot(dataset = [df[\"stepCount(cumulativeforday)\"].values,\n",
    "                           df[\"bloodOxygenAvg(mmHg)\"].values,\n",
    "                           df[\"stress(0to5)\"].values,\n",
    "                           df[\"sleepHours\"].values,\n",
    "                           df[\"REMsleepHours\"].values,\n",
    "                           df[\"caloriesBurnt(cumulativeforday)\"].values,\n",
    "                           df[\"age\"].values,\n",
    "                           df[\"weight(kg)\"].values,\n",
    "                           df[\"height(cm)\"].values,\n",
    "                           df[\"heartRate(bpm)\"].values,\n",
    "                           df[\"systolicBloodPressure(mmHg)\"].values,\n",
    "                           df[\"diastolicBloodPressure(mmHg)\"].values,\n",
    "                           df[\"bodyTemperature(F)\"].values,\n",
    "                           df[\"breathingFrequency(perminute)\"].values,\n",
    "                        ] \n",
    "               )\n",
    "\n",
    "axes.set_title('Day Ahead Market')\n",
    "axes.yaxis.grid(True)\n",
    "axes.set_xlabel('Scenario')\n",
    "axes.set_ylabel('LMP ($/MWh)')\n",
    "\n",
    "plt.show()"
   ]
  },
  {
   "cell_type": "code",
   "execution_count": null,
   "id": "97055966-6195-4b9c-9d71-570c9e2bcc94",
   "metadata": {},
   "outputs": [],
   "source": []
  },
  {
   "cell_type": "code",
   "execution_count": null,
   "id": "49d2159c-d90f-41a8-bdc0-c88f524fe35c",
   "metadata": {},
   "outputs": [],
   "source": []
  },
  {
   "cell_type": "code",
   "execution_count": 6,
   "id": "011e9bfe-7733-42ca-8eba-8abc054be416",
   "metadata": {},
   "outputs": [
    {
     "data": {
      "text/html": [
       "<div>\n",
       "<style scoped>\n",
       "    .dataframe tbody tr th:only-of-type {\n",
       "        vertical-align: middle;\n",
       "    }\n",
       "\n",
       "    .dataframe tbody tr th {\n",
       "        vertical-align: top;\n",
       "    }\n",
       "\n",
       "    .dataframe thead th {\n",
       "        text-align: right;\n",
       "    }\n",
       "</style>\n",
       "<table border=\"1\" class=\"dataframe\">\n",
       "  <thead>\n",
       "    <tr style=\"text-align: right;\">\n",
       "      <th></th>\n",
       "      <th>Symbol</th>\n",
       "      <th>Date</th>\n",
       "      <th>Open</th>\n",
       "      <th>Close</th>\n",
       "      <th>Volume</th>\n",
       "      <th>MarketCap</th>\n",
       "      <th>Sector</th>\n",
       "      <th>Industry</th>\n",
       "    </tr>\n",
       "  </thead>\n",
       "  <tbody>\n",
       "    <tr>\n",
       "      <th>0</th>\n",
       "      <td>AAPL</td>\n",
       "      <td>2018-12-31</td>\n",
       "      <td>39.632500</td>\n",
       "      <td>39.435001</td>\n",
       "      <td>140014000</td>\n",
       "      <td>7.378734e+11</td>\n",
       "      <td>Technology</td>\n",
       "      <td>Computer Manufacturing</td>\n",
       "    </tr>\n",
       "    <tr>\n",
       "      <th>1</th>\n",
       "      <td>AAPL</td>\n",
       "      <td>2019-01-02</td>\n",
       "      <td>38.722500</td>\n",
       "      <td>39.480000</td>\n",
       "      <td>148158800</td>\n",
       "      <td>7.378734e+11</td>\n",
       "      <td>Technology</td>\n",
       "      <td>Computer Manufacturing</td>\n",
       "    </tr>\n",
       "    <tr>\n",
       "      <th>2</th>\n",
       "      <td>AAPL</td>\n",
       "      <td>2019-01-03</td>\n",
       "      <td>35.994999</td>\n",
       "      <td>35.547501</td>\n",
       "      <td>365248800</td>\n",
       "      <td>7.378734e+11</td>\n",
       "      <td>Technology</td>\n",
       "      <td>Computer Manufacturing</td>\n",
       "    </tr>\n",
       "    <tr>\n",
       "      <th>3</th>\n",
       "      <td>AAPL</td>\n",
       "      <td>2019-01-04</td>\n",
       "      <td>36.132500</td>\n",
       "      <td>37.064999</td>\n",
       "      <td>234428400</td>\n",
       "      <td>7.378734e+11</td>\n",
       "      <td>Technology</td>\n",
       "      <td>Computer Manufacturing</td>\n",
       "    </tr>\n",
       "    <tr>\n",
       "      <th>4</th>\n",
       "      <td>AAPL</td>\n",
       "      <td>2019-01-07</td>\n",
       "      <td>37.174999</td>\n",
       "      <td>36.982498</td>\n",
       "      <td>219111200</td>\n",
       "      <td>7.378734e+11</td>\n",
       "      <td>Technology</td>\n",
       "      <td>Computer Manufacturing</td>\n",
       "    </tr>\n",
       "  </tbody>\n",
       "</table>\n",
       "</div>"
      ],
      "text/plain": [
       "  Symbol       Date       Open      Close     Volume     MarketCap  \\\n",
       "0   AAPL 2018-12-31  39.632500  39.435001  140014000  7.378734e+11   \n",
       "1   AAPL 2019-01-02  38.722500  39.480000  148158800  7.378734e+11   \n",
       "2   AAPL 2019-01-03  35.994999  35.547501  365248800  7.378734e+11   \n",
       "3   AAPL 2019-01-04  36.132500  37.064999  234428400  7.378734e+11   \n",
       "4   AAPL 2019-01-07  37.174999  36.982498  219111200  7.378734e+11   \n",
       "\n",
       "       Sector                Industry  \n",
       "0  Technology  Computer Manufacturing  \n",
       "1  Technology  Computer Manufacturing  \n",
       "2  Technology  Computer Manufacturing  \n",
       "3  Technology  Computer Manufacturing  \n",
       "4  Technology  Computer Manufacturing  "
      ]
     },
     "execution_count": 6,
     "metadata": {},
     "output_type": "execute_result"
    }
   ],
   "source": [
    "from sdv.demo import load_timeseries_demo\n",
    "\n",
    "data = load_timeseries_demo()\n",
    "data.head()"
   ]
  },
  {
   "cell_type": "code",
   "execution_count": 7,
   "id": "f391eeae-fec1-44b1-a403-4b092322320e",
   "metadata": {},
   "outputs": [
    {
     "data": {
      "text/plain": [
       "(25784, 8)"
      ]
     },
     "execution_count": 7,
     "metadata": {},
     "output_type": "execute_result"
    }
   ],
   "source": [
    "data.shape"
   ]
  },
  {
   "cell_type": "code",
   "execution_count": 8,
   "id": "562cfa9b-1d60-4a30-b669-45bc9df0ee82",
   "metadata": {},
   "outputs": [],
   "source": [
    "entity_columns = ['Symbol']\n",
    "context_columns = ['MarketCap', 'Sector', 'Industry']\n",
    "sequence_index = 'Date'"
   ]
  },
  {
   "cell_type": "code",
   "execution_count": 9,
   "id": "703ea528-44f7-416b-8a0c-c71f5ffaba26",
   "metadata": {},
   "outputs": [],
   "source": [
    "data = data[:100]"
   ]
  },
  {
   "cell_type": "code",
   "execution_count": 10,
   "id": "4cac92ec-afcd-41b9-a180-04a8af5cb88d",
   "metadata": {},
   "outputs": [
    {
     "name": "stderr",
     "output_type": "stream",
     "text": [
      "/usr/local/lib/python3.9/site-packages/deepecho/sequences.py:181: FutureWarning: In a future version of pandas, a length 1 tuple will be returned when iterating over a groupby with a grouper equal to a list of length 1. Don't supply a list with a single grouper to avoid this warning.\n",
      "  for _, sequence in data.groupby(entity_columns):\n"
     ]
    }
   ],
   "source": [
    "from sdv.timeseries import PAR\n",
    "\n",
    "model = PAR(\n",
    "    entity_columns=entity_columns,\n",
    "    context_columns=context_columns,\n",
    "    sequence_index=sequence_index,\n",
    ")\n",
    "model.fit(data)\n",
    "\n",
    "# 1\n",
    "# field_types = {\n",
    "#     'Symbol': {\n",
    "#         'type': 'id',\n",
    "#         'subtype': 'string',\n",
    "#         'regex': '[A-Z]{2,4}'\n",
    "#     }\n",
    "# }\n",
    "# model = PAR(\n",
    "#     entity_columns=entity_columns,\n",
    "#     context_columns=context_columns,\n",
    "#     sequence_index=sequence_index,\n",
    "#     field_types=field_types\n",
    "# )\n",
    "# model.fit(data)\n",
    "\n",
    "# 2\n",
    "# model = PAR(\n",
    "#     entity_columns=entity_columns,\n",
    "#     sequence_index=sequence_index,\n",
    "#     field_types=field_types,\n",
    "# )\n",
    "# model.fit(no_context)\n",
    "# model.sample(num_sequences=1).head()\n",
    "\n",
    "# 3 - probably most suitable\n",
    "# model = PAR(\n",
    "#     sequence_index=sequence_index,\n",
    "# )\n",
    "# model.fit(tsla)\n",
    "# model.sample()"
   ]
  },
  {
   "cell_type": "code",
   "execution_count": 11,
   "id": "664745fe-960c-4b9d-9780-ec30c15a655c",
   "metadata": {},
   "outputs": [],
   "source": [
    "new_data = model.sample(1)"
   ]
  },
  {
   "cell_type": "code",
   "execution_count": 12,
   "id": "7a7df270-792e-4ec2-a0ad-d44eb446c15b",
   "metadata": {},
   "outputs": [
    {
     "data": {
      "text/html": [
       "<div>\n",
       "<style scoped>\n",
       "    .dataframe tbody tr th:only-of-type {\n",
       "        vertical-align: middle;\n",
       "    }\n",
       "\n",
       "    .dataframe tbody tr th {\n",
       "        vertical-align: top;\n",
       "    }\n",
       "\n",
       "    .dataframe thead th {\n",
       "        text-align: right;\n",
       "    }\n",
       "</style>\n",
       "<table border=\"1\" class=\"dataframe\">\n",
       "  <thead>\n",
       "    <tr style=\"text-align: right;\">\n",
       "      <th></th>\n",
       "      <th>Symbol</th>\n",
       "      <th>Date</th>\n",
       "      <th>Open</th>\n",
       "      <th>Close</th>\n",
       "      <th>Volume</th>\n",
       "      <th>MarketCap</th>\n",
       "      <th>Sector</th>\n",
       "      <th>Industry</th>\n",
       "    </tr>\n",
       "  </thead>\n",
       "  <tbody>\n",
       "    <tr>\n",
       "      <th>0</th>\n",
       "      <td>a</td>\n",
       "      <td>2018-12-31</td>\n",
       "      <td>42.777598</td>\n",
       "      <td>46.809476</td>\n",
       "      <td>128188320</td>\n",
       "      <td>7.378734e+11</td>\n",
       "      <td>Technology</td>\n",
       "      <td>Computer Manufacturing</td>\n",
       "    </tr>\n",
       "    <tr>\n",
       "      <th>1</th>\n",
       "      <td>a</td>\n",
       "      <td>2019-01-01</td>\n",
       "      <td>42.157477</td>\n",
       "      <td>41.501273</td>\n",
       "      <td>145780437</td>\n",
       "      <td>7.378734e+11</td>\n",
       "      <td>Technology</td>\n",
       "      <td>Computer Manufacturing</td>\n",
       "    </tr>\n",
       "    <tr>\n",
       "      <th>2</th>\n",
       "      <td>a</td>\n",
       "      <td>2019-01-02</td>\n",
       "      <td>40.068821</td>\n",
       "      <td>39.633135</td>\n",
       "      <td>166649558</td>\n",
       "      <td>7.378734e+11</td>\n",
       "      <td>Technology</td>\n",
       "      <td>Computer Manufacturing</td>\n",
       "    </tr>\n",
       "    <tr>\n",
       "      <th>3</th>\n",
       "      <td>a</td>\n",
       "      <td>2019-01-03</td>\n",
       "      <td>39.179715</td>\n",
       "      <td>39.612503</td>\n",
       "      <td>170674496</td>\n",
       "      <td>7.378734e+11</td>\n",
       "      <td>Technology</td>\n",
       "      <td>Computer Manufacturing</td>\n",
       "    </tr>\n",
       "    <tr>\n",
       "      <th>4</th>\n",
       "      <td>a</td>\n",
       "      <td>2019-01-06</td>\n",
       "      <td>39.323123</td>\n",
       "      <td>38.352910</td>\n",
       "      <td>79697885</td>\n",
       "      <td>7.378734e+11</td>\n",
       "      <td>Technology</td>\n",
       "      <td>Computer Manufacturing</td>\n",
       "    </tr>\n",
       "  </tbody>\n",
       "</table>\n",
       "</div>"
      ],
      "text/plain": [
       "  Symbol       Date       Open      Close     Volume     MarketCap  \\\n",
       "0      a 2018-12-31  42.777598  46.809476  128188320  7.378734e+11   \n",
       "1      a 2019-01-01  42.157477  41.501273  145780437  7.378734e+11   \n",
       "2      a 2019-01-02  40.068821  39.633135  166649558  7.378734e+11   \n",
       "3      a 2019-01-03  39.179715  39.612503  170674496  7.378734e+11   \n",
       "4      a 2019-01-06  39.323123  38.352910   79697885  7.378734e+11   \n",
       "\n",
       "       Sector                Industry  \n",
       "0  Technology  Computer Manufacturing  \n",
       "1  Technology  Computer Manufacturing  \n",
       "2  Technology  Computer Manufacturing  \n",
       "3  Technology  Computer Manufacturing  \n",
       "4  Technology  Computer Manufacturing  "
      ]
     },
     "execution_count": 12,
     "metadata": {},
     "output_type": "execute_result"
    }
   ],
   "source": [
    "new_data.head()"
   ]
  },
  {
   "cell_type": "code",
   "execution_count": 13,
   "id": "eabda43a-f975-446f-befa-d2c1fd630a84",
   "metadata": {},
   "outputs": [
    {
     "data": {
      "text/plain": [
       "(100, 8)"
      ]
     },
     "execution_count": 13,
     "metadata": {},
     "output_type": "execute_result"
    }
   ],
   "source": [
    "new_data.shape"
   ]
  },
  {
   "cell_type": "code",
   "execution_count": 14,
   "id": "175020fa-1672-4608-93c8-273db9af5dbb",
   "metadata": {},
   "outputs": [
    {
     "data": {
      "text/html": [
       "<div>\n",
       "<style scoped>\n",
       "    .dataframe tbody tr th:only-of-type {\n",
       "        vertical-align: middle;\n",
       "    }\n",
       "\n",
       "    .dataframe tbody tr th {\n",
       "        vertical-align: top;\n",
       "    }\n",
       "\n",
       "    .dataframe thead th {\n",
       "        text-align: right;\n",
       "    }\n",
       "</style>\n",
       "<table border=\"1\" class=\"dataframe\">\n",
       "  <thead>\n",
       "    <tr style=\"text-align: right;\">\n",
       "      <th></th>\n",
       "      <th>Symbol</th>\n",
       "      <th>Date</th>\n",
       "      <th>Open</th>\n",
       "      <th>Close</th>\n",
       "      <th>Volume</th>\n",
       "      <th>MarketCap</th>\n",
       "      <th>Sector</th>\n",
       "      <th>Industry</th>\n",
       "    </tr>\n",
       "  </thead>\n",
       "  <tbody>\n",
       "    <tr>\n",
       "      <th>0</th>\n",
       "      <td>a</td>\n",
       "      <td>2018-12-31</td>\n",
       "      <td>39.616091</td>\n",
       "      <td>44.780631</td>\n",
       "      <td>165510939</td>\n",
       "      <td>7.378734e+11</td>\n",
       "      <td>Technology</td>\n",
       "      <td>Computer Manufacturing</td>\n",
       "    </tr>\n",
       "    <tr>\n",
       "      <th>1</th>\n",
       "      <td>a</td>\n",
       "      <td>2019-01-02</td>\n",
       "      <td>38.996580</td>\n",
       "      <td>40.829762</td>\n",
       "      <td>213893240</td>\n",
       "      <td>7.378734e+11</td>\n",
       "      <td>Technology</td>\n",
       "      <td>Computer Manufacturing</td>\n",
       "    </tr>\n",
       "    <tr>\n",
       "      <th>2</th>\n",
       "      <td>a</td>\n",
       "      <td>2019-01-03</td>\n",
       "      <td>37.545285</td>\n",
       "      <td>39.784592</td>\n",
       "      <td>90801137</td>\n",
       "      <td>7.378734e+11</td>\n",
       "      <td>Technology</td>\n",
       "      <td>Computer Manufacturing</td>\n",
       "    </tr>\n",
       "    <tr>\n",
       "      <th>3</th>\n",
       "      <td>a</td>\n",
       "      <td>2019-01-04</td>\n",
       "      <td>38.112244</td>\n",
       "      <td>38.420026</td>\n",
       "      <td>190791591</td>\n",
       "      <td>7.378734e+11</td>\n",
       "      <td>Technology</td>\n",
       "      <td>Computer Manufacturing</td>\n",
       "    </tr>\n",
       "    <tr>\n",
       "      <th>4</th>\n",
       "      <td>a</td>\n",
       "      <td>2019-01-04</td>\n",
       "      <td>37.357364</td>\n",
       "      <td>37.892462</td>\n",
       "      <td>158769074</td>\n",
       "      <td>7.378734e+11</td>\n",
       "      <td>Technology</td>\n",
       "      <td>Computer Manufacturing</td>\n",
       "    </tr>\n",
       "  </tbody>\n",
       "</table>\n",
       "</div>"
      ],
      "text/plain": [
       "  Symbol       Date       Open      Close     Volume     MarketCap  \\\n",
       "0      a 2018-12-31  39.616091  44.780631  165510939  7.378734e+11   \n",
       "1      a 2019-01-02  38.996580  40.829762  213893240  7.378734e+11   \n",
       "2      a 2019-01-03  37.545285  39.784592   90801137  7.378734e+11   \n",
       "3      a 2019-01-04  38.112244  38.420026  190791591  7.378734e+11   \n",
       "4      a 2019-01-04  37.357364  37.892462  158769074  7.378734e+11   \n",
       "\n",
       "       Sector                Industry  \n",
       "0  Technology  Computer Manufacturing  \n",
       "1  Technology  Computer Manufacturing  \n",
       "2  Technology  Computer Manufacturing  \n",
       "3  Technology  Computer Manufacturing  \n",
       "4  Technology  Computer Manufacturing  "
      ]
     },
     "execution_count": 14,
     "metadata": {},
     "output_type": "execute_result"
    }
   ],
   "source": [
    "model.save('my_model.pkl')\n",
    "loaded = PAR.load('my_model.pkl')\n",
    "loaded.sample(num_sequences=1).head()"
   ]
  },
  {
   "cell_type": "code",
   "execution_count": null,
   "id": "989dc9b6-1b3e-4af5-a525-ef586885c607",
   "metadata": {},
   "outputs": [],
   "source": []
  },
  {
   "cell_type": "code",
   "execution_count": 15,
   "id": "a26c987a-698b-4638-9a9f-ea18e41f21cb",
   "metadata": {},
   "outputs": [
    {
     "data": {
      "text/html": [
       "<div>\n",
       "<style scoped>\n",
       "    .dataframe tbody tr th:only-of-type {\n",
       "        vertical-align: middle;\n",
       "    }\n",
       "\n",
       "    .dataframe tbody tr th {\n",
       "        vertical-align: top;\n",
       "    }\n",
       "\n",
       "    .dataframe thead th {\n",
       "        text-align: right;\n",
       "    }\n",
       "</style>\n",
       "<table border=\"1\" class=\"dataframe\">\n",
       "  <thead>\n",
       "    <tr style=\"text-align: right;\">\n",
       "      <th></th>\n",
       "      <th>Symbol</th>\n",
       "      <th>MarketCap</th>\n",
       "      <th>Sector</th>\n",
       "      <th>Industry</th>\n",
       "    </tr>\n",
       "  </thead>\n",
       "  <tbody>\n",
       "    <tr>\n",
       "      <th>0</th>\n",
       "      <td>AAAA</td>\n",
       "      <td>1.234500e+11</td>\n",
       "      <td>Technology</td>\n",
       "      <td>Electronic Components</td>\n",
       "    </tr>\n",
       "    <tr>\n",
       "      <th>1</th>\n",
       "      <td>BBBB</td>\n",
       "      <td>4.567800e+10</td>\n",
       "      <td>Health Care</td>\n",
       "      <td>Medical/Nursing Services</td>\n",
       "    </tr>\n",
       "  </tbody>\n",
       "</table>\n",
       "</div>"
      ],
      "text/plain": [
       "  Symbol     MarketCap       Sector                  Industry\n",
       "0   AAAA  1.234500e+11   Technology     Electronic Components\n",
       "1   BBBB  4.567800e+10  Health Care  Medical/Nursing Services"
      ]
     },
     "execution_count": 15,
     "metadata": {},
     "output_type": "execute_result"
    }
   ],
   "source": [
    "import pandas as pd\n",
    "\n",
    "context = pd.DataFrame([\n",
    "    {\n",
    "        'Symbol': 'AAAA',\n",
    "        'MarketCap': 1.2345e+11,\n",
    "        'Sector': 'Technology',\n",
    "        'Industry': 'Electronic Components'\n",
    "    },\n",
    "    {\n",
    "        'Symbol': 'BBBB',\n",
    "        'MarketCap': 4.5678e+10,\n",
    "        'Sector': 'Health Care',\n",
    "        'Industry': 'Medical/Nursing Services'\n",
    "    },\n",
    "])\n",
    "context"
   ]
  },
  {
   "cell_type": "code",
   "execution_count": 16,
   "id": "2314bd09-e630-498a-b760-e0b718c8951d",
   "metadata": {},
   "outputs": [
    {
     "ename": "KeyError",
     "evalue": "'Electronic Components'",
     "output_type": "error",
     "traceback": [
      "\u001b[0;31m---------------------------------------------------------------------------\u001b[0m",
      "\u001b[0;31mKeyError\u001b[0m                                  Traceback (most recent call last)",
      "Cell \u001b[0;32mIn[16], line 1\u001b[0m\n\u001b[0;32m----> 1\u001b[0m new_data \u001b[38;5;241m=\u001b[39m \u001b[43mmodel\u001b[49m\u001b[38;5;241;43m.\u001b[39;49m\u001b[43msample\u001b[49m\u001b[43m(\u001b[49m\u001b[43mcontext\u001b[49m\u001b[38;5;241;43m=\u001b[39;49m\u001b[43mcontext\u001b[49m\u001b[43m)\u001b[49m\n",
      "File \u001b[0;32m/usr/local/lib/python3.9/site-packages/sdv/timeseries/base.py:267\u001b[0m, in \u001b[0;36mBaseTimeseriesModel.sample\u001b[0;34m(self, num_sequences, context, sequence_length)\u001b[0m\n\u001b[1;32m    264\u001b[0m         \u001b[38;5;28;01mif\u001b[39;00m column \u001b[38;5;129;01mnot\u001b[39;00m \u001b[38;5;129;01min\u001b[39;00m context:\n\u001b[1;32m    265\u001b[0m             context[column] \u001b[38;5;241m=\u001b[39m \u001b[38;5;28mrange\u001b[39m(\u001b[38;5;28mlen\u001b[39m(context))\n\u001b[0;32m--> 267\u001b[0m sampled \u001b[38;5;241m=\u001b[39m \u001b[38;5;28;43mself\u001b[39;49m\u001b[38;5;241;43m.\u001b[39;49m\u001b[43m_sample\u001b[49m\u001b[43m(\u001b[49m\u001b[43mcontext\u001b[49m\u001b[43m,\u001b[49m\u001b[43m \u001b[49m\u001b[43msequence_length\u001b[49m\u001b[43m)\u001b[49m\n\u001b[1;32m    268\u001b[0m \u001b[38;5;28;01mreturn\u001b[39;00m \u001b[38;5;28mself\u001b[39m\u001b[38;5;241m.\u001b[39m_metadata\u001b[38;5;241m.\u001b[39mreverse_transform(sampled)\n",
      "File \u001b[0;32m/usr/local/lib/python3.9/site-packages/sdv/timeseries/deepecho.py:116\u001b[0m, in \u001b[0;36mDeepEchoModel._sample\u001b[0;34m(self, context, sequence_length)\u001b[0m\n\u001b[1;32m    114\u001b[0m \u001b[38;5;28;01mfor\u001b[39;00m entity_values, context_values \u001b[38;5;129;01min\u001b[39;00m iterator:\n\u001b[1;32m    115\u001b[0m     context_values \u001b[38;5;241m=\u001b[39m context_values\u001b[38;5;241m.\u001b[39mtolist()\n\u001b[0;32m--> 116\u001b[0m     sequence \u001b[38;5;241m=\u001b[39m \u001b[38;5;28;43mself\u001b[39;49m\u001b[38;5;241;43m.\u001b[39;49m\u001b[43m_model\u001b[49m\u001b[38;5;241;43m.\u001b[39;49m\u001b[43msample_sequence\u001b[49m\u001b[43m(\u001b[49m\u001b[43mcontext_values\u001b[49m\u001b[43m,\u001b[49m\u001b[43m \u001b[49m\u001b[43msequence_length\u001b[49m\u001b[43m)\u001b[49m\n\u001b[1;32m    117\u001b[0m     \u001b[38;5;28;01mif\u001b[39;00m \u001b[38;5;28mself\u001b[39m\u001b[38;5;241m.\u001b[39m_sequence_index:\n\u001b[1;32m    118\u001b[0m         sequence_index_idx \u001b[38;5;241m=\u001b[39m \u001b[38;5;28mself\u001b[39m\u001b[38;5;241m.\u001b[39m_data_columns\u001b[38;5;241m.\u001b[39mindex(\u001b[38;5;28mself\u001b[39m\u001b[38;5;241m.\u001b[39m_sequence_index)\n",
      "File \u001b[0;32m/usr/local/lib/python3.9/site-packages/deepecho/models/par.py:553\u001b[0m, in \u001b[0;36mPARModel.sample_sequence\u001b[0;34m(self, context, sequence_length)\u001b[0m\n\u001b[1;32m    550\u001b[0m     max_length \u001b[38;5;241m=\u001b[39m \u001b[38;5;28mself\u001b[39m\u001b[38;5;241m.\u001b[39m_max_length\n\u001b[1;32m    552\u001b[0m \u001b[38;5;28;01mif\u001b[39;00m \u001b[38;5;28mself\u001b[39m\u001b[38;5;241m.\u001b[39m_ctx_dims:\n\u001b[0;32m--> 553\u001b[0m     context \u001b[38;5;241m=\u001b[39m \u001b[38;5;28;43mself\u001b[39;49m\u001b[38;5;241;43m.\u001b[39;49m\u001b[43m_context_to_tensor\u001b[49m\u001b[43m(\u001b[49m\u001b[43mcontext\u001b[49m\u001b[43m)\u001b[49m\u001b[38;5;241m.\u001b[39munsqueeze(\u001b[38;5;241m0\u001b[39m)\n\u001b[1;32m    554\u001b[0m \u001b[38;5;28;01melse\u001b[39;00m:\n\u001b[1;32m    555\u001b[0m     context \u001b[38;5;241m=\u001b[39m \u001b[38;5;28;01mNone\u001b[39;00m\n",
      "File \u001b[0;32m/usr/local/lib/python3.9/site-packages/deepecho/models/par.py:272\u001b[0m, in \u001b[0;36mPARModel._context_to_tensor\u001b[0;34m(self, context)\u001b[0m\n\u001b[1;32m    270\u001b[0m     \u001b[38;5;28;01mif\u001b[39;00m pd\u001b[38;5;241m.\u001b[39misnull(value):\n\u001b[1;32m    271\u001b[0m         value \u001b[38;5;241m=\u001b[39m \u001b[38;5;28;01mNone\u001b[39;00m\n\u001b[0;32m--> 272\u001b[0m     x[\u001b[43mprops\u001b[49m\u001b[43m[\u001b[49m\u001b[38;5;124;43m'\u001b[39;49m\u001b[38;5;124;43mindices\u001b[39;49m\u001b[38;5;124;43m'\u001b[39;49m\u001b[43m]\u001b[49m\u001b[43m[\u001b[49m\u001b[43mvalue\u001b[49m\u001b[43m]\u001b[49m] \u001b[38;5;241m=\u001b[39m \u001b[38;5;241m1.0\u001b[39m\n\u001b[1;32m    274\u001b[0m \u001b[38;5;28;01melse\u001b[39;00m:\n\u001b[1;32m    275\u001b[0m     \u001b[38;5;28;01mraise\u001b[39;00m \u001b[38;5;167;01mValueError\u001b[39;00m()\n",
      "\u001b[0;31mKeyError\u001b[0m: 'Electronic Components'"
     ]
    }
   ],
   "source": [
    "new_data = model.sample(context=context)"
   ]
  },
  {
   "cell_type": "code",
   "execution_count": null,
   "id": "204aefbd-3a22-425b-8898-386712d0a379",
   "metadata": {},
   "outputs": [],
   "source": [
    "new_data.shape"
   ]
  },
  {
   "cell_type": "code",
   "execution_count": null,
   "id": "5a60fec3-410b-4eff-82d3-d6e5eac90237",
   "metadata": {},
   "outputs": [],
   "source": []
  },
  {
   "cell_type": "code",
   "execution_count": null,
   "id": "76dc6928-cc45-48ea-a7e3-a87f739410a8",
   "metadata": {},
   "outputs": [],
   "source": []
  },
  {
   "cell_type": "code",
   "execution_count": null,
   "id": "32c302bc-99e8-4785-93e4-5f81727beab9",
   "metadata": {},
   "outputs": [],
   "source": []
  }
 ],
 "metadata": {
  "kernelspec": {
   "display_name": "Python 3 (ipykernel)",
   "language": "python",
   "name": "python3"
  },
  "language_info": {
   "codemirror_mode": {
    "name": "ipython",
    "version": 3
   },
   "file_extension": ".py",
   "mimetype": "text/x-python",
   "name": "python",
   "nbconvert_exporter": "python",
   "pygments_lexer": "ipython3",
   "version": "3.9.16"
  }
 },
 "nbformat": 4,
 "nbformat_minor": 5
}
